{
 "cells": [
  {
   "cell_type": "markdown",
   "id": "86e77e1d-761e-4262-9c6a-81012883b308",
   "metadata": {},
   "source": [
    "# Модуль 1. Введение в сбор данных\n",
    "\n",
    "Федоров Георгий"
   ]
  },
  {
   "cell_type": "markdown",
   "id": "ada7b5da-782b-45cb-b046-f0503f54b310",
   "metadata": {},
   "source": [
    "### Наш рабочий проект: *обучение модели-ассистента для редактирования изображений (\"умный фотошоп\")*\n",
    "\n",
    "> Идея работы модели: пользователь прикрепляет изображение и пишет инструкцию (н., \"удали людей с заднего плана и поменяй мою кепку на соломенную шляпу\"), модель же выдаёт отредактированное соответственным образом изображение\n",
    "(что-то подобное недавно реализовали в Gemini и в GPT-4o, но из-за авторегрессионного подхода картинка сильно меняется -> это скорее перерисовка всего изображения, чем точечное редактирование нужных участков)"
   ]
  },
  {
   "cell_type": "markdown",
   "id": "1673ac1d-45ae-4aa3-ad05-2eb8db607c24",
   "metadata": {},
   "source": [
    "Один из хороших источников данных для такой задачи: сабреддит r/PhotoshopRequest, где пользователи выкладывают изображения и просьбы редактирования, а в комментариях им прикрепляют результаты."
   ]
  },
  {
   "cell_type": "code",
   "execution_count": 120,
   "id": "6e61ccff-b395-442e-ba6b-7aee2b69ab23",
   "metadata": {},
   "outputs": [],
   "source": [
    "import praw\n",
    "import os\n",
    "import random\n",
    "from PIL import Image\n",
    "import re\n",
    "import json\n",
    "import pandas as pd\n",
    "import cv2\n",
    "import numpy as np\n",
    "from PIL import Image\n",
    "import matplotlib.pyplot as plt\n",
    "import polars as pl\n",
    "from tqdm import tqdm\n",
    "import seaborn as sns\n",
    "\n",
    "from IPython.display import clear_output"
   ]
  },
  {
   "cell_type": "markdown",
   "id": "8fa18c37-fe24-4f25-ae89-6649505be2aa",
   "metadata": {},
   "source": [
    "## **[1]** Соберите данные из двух разных источников (открытый датасет + веб-скрейпинг или API).\n",
    "\n",
    "### Стоит учитывать, что датасет, который вы сформируете на данном этапе пригодится вам для дальнейшего задания."
   ]
  },
  {
   "cell_type": "markdown",
   "id": "e85231bb-2fd3-4eab-921e-b2baa13638a2",
   "metadata": {},
   "source": [
    "В первых домашках работа будет вестись только с табличными/текстовыми данными. Непосредственно картинки введём в домашке 4, про мультимодальность.\n",
    "\n",
    "Поскольку реддит предоставляет только лучшие 1000 постов за указанный промежуток времени, парсить сабреддит целиком невозможно. Однако добрые люди раз в год выгружают весь реддит (!), распределяют его по сабреддитам и заливают на торрент. Поэтому, наши данные из двух источников будут такие:\n",
    "\n",
    "1. **открытый датасет** - торрент-архив всего r/PhotshopRequest с самого начала по 2024 год включительно\n",
    "2. **API** - будем использовать библиотеку **praw** для парсинга актуальных, свежих постов из сабреддита\n",
    "\n",
    "`P.S.\n",
    "да, это \"открытый датасет\" и \"два разных источника\" только с небольшой натяжкой, но мне кажется, что ради качества и эффективности работы можно проявлять небольшую гибкость, так что надеюсь, что такие источники подойдут :)` "
   ]
  },
  {
   "cell_type": "code",
   "execution_count": 2,
   "id": "3ee7c336-eaee-4417-b3ba-22598d3e5844",
   "metadata": {
    "scrolled": true
   },
   "outputs": [
    {
     "data": {
      "text/html": [
       "<div>\n",
       "<style scoped>\n",
       "    .dataframe tbody tr th:only-of-type {\n",
       "        vertical-align: middle;\n",
       "    }\n",
       "\n",
       "    .dataframe tbody tr th {\n",
       "        vertical-align: top;\n",
       "    }\n",
       "\n",
       "    .dataframe thead th {\n",
       "        text-align: right;\n",
       "    }\n",
       "</style>\n",
       "<table border=\"1\" class=\"dataframe\">\n",
       "  <thead>\n",
       "    <tr style=\"text-align: right;\">\n",
       "      <th></th>\n",
       "      <th>downs</th>\n",
       "      <th>link_flair_text</th>\n",
       "      <th>distinguished</th>\n",
       "      <th>media</th>\n",
       "      <th>url</th>\n",
       "      <th>link_flair_css_class</th>\n",
       "      <th>id</th>\n",
       "      <th>edited</th>\n",
       "      <th>num_reports</th>\n",
       "      <th>created_utc</th>\n",
       "      <th>...</th>\n",
       "      <th>retrieved_utc</th>\n",
       "      <th>top_awarded_type</th>\n",
       "      <th>url_overridden_by_dest</th>\n",
       "      <th>gallery_data</th>\n",
       "      <th>is_gallery</th>\n",
       "      <th>call_to_action</th>\n",
       "      <th>author_is_blocked</th>\n",
       "      <th>updated_on</th>\n",
       "      <th>previous_selftext</th>\n",
       "      <th>_meta</th>\n",
       "    </tr>\n",
       "  </thead>\n",
       "  <tbody>\n",
       "    <tr>\n",
       "      <th>0</th>\n",
       "      <td>0.0</td>\n",
       "      <td>None</td>\n",
       "      <td>None</td>\n",
       "      <td>None</td>\n",
       "      <td>http://www.reddit.com/r/PhotoshopRequest/comme...</td>\n",
       "      <td>None</td>\n",
       "      <td>v9h62</td>\n",
       "      <td>0</td>\n",
       "      <td>NaN</td>\n",
       "      <td>1340082463</td>\n",
       "      <td>...</td>\n",
       "      <td>NaN</td>\n",
       "      <td>NaN</td>\n",
       "      <td>NaN</td>\n",
       "      <td>NaN</td>\n",
       "      <td>NaN</td>\n",
       "      <td>NaN</td>\n",
       "      <td>NaN</td>\n",
       "      <td>NaN</td>\n",
       "      <td>NaN</td>\n",
       "      <td>NaN</td>\n",
       "    </tr>\n",
       "    <tr>\n",
       "      <th>1</th>\n",
       "      <td>0.0</td>\n",
       "      <td>None</td>\n",
       "      <td>None</td>\n",
       "      <td>None</td>\n",
       "      <td>http://www.reddit.com/r/PhotoshopRequest/comme...</td>\n",
       "      <td>None</td>\n",
       "      <td>v9fi1</td>\n",
       "      <td>0</td>\n",
       "      <td>NaN</td>\n",
       "      <td>1340080357</td>\n",
       "      <td>...</td>\n",
       "      <td>NaN</td>\n",
       "      <td>NaN</td>\n",
       "      <td>NaN</td>\n",
       "      <td>NaN</td>\n",
       "      <td>NaN</td>\n",
       "      <td>NaN</td>\n",
       "      <td>NaN</td>\n",
       "      <td>NaN</td>\n",
       "      <td>NaN</td>\n",
       "      <td>NaN</td>\n",
       "    </tr>\n",
       "    <tr>\n",
       "      <th>2</th>\n",
       "      <td>0.0</td>\n",
       "      <td>None</td>\n",
       "      <td>None</td>\n",
       "      <td>None</td>\n",
       "      <td>http://www.reddit.com/r/PhotoshopRequest/comme...</td>\n",
       "      <td>None</td>\n",
       "      <td>x43s2</td>\n",
       "      <td>0</td>\n",
       "      <td>NaN</td>\n",
       "      <td>1343188886</td>\n",
       "      <td>...</td>\n",
       "      <td>NaN</td>\n",
       "      <td>NaN</td>\n",
       "      <td>NaN</td>\n",
       "      <td>NaN</td>\n",
       "      <td>NaN</td>\n",
       "      <td>NaN</td>\n",
       "      <td>NaN</td>\n",
       "      <td>NaN</td>\n",
       "      <td>NaN</td>\n",
       "      <td>NaN</td>\n",
       "    </tr>\n",
       "    <tr>\n",
       "      <th>3</th>\n",
       "      <td>0.0</td>\n",
       "      <td>None</td>\n",
       "      <td>None</td>\n",
       "      <td>None</td>\n",
       "      <td>http://www.reddit.com/r/PhotoshopRequest/comme...</td>\n",
       "      <td>None</td>\n",
       "      <td>10by6r</td>\n",
       "      <td>0</td>\n",
       "      <td>NaN</td>\n",
       "      <td>1348378155</td>\n",
       "      <td>...</td>\n",
       "      <td>NaN</td>\n",
       "      <td>NaN</td>\n",
       "      <td>NaN</td>\n",
       "      <td>NaN</td>\n",
       "      <td>NaN</td>\n",
       "      <td>NaN</td>\n",
       "      <td>NaN</td>\n",
       "      <td>NaN</td>\n",
       "      <td>NaN</td>\n",
       "      <td>NaN</td>\n",
       "    </tr>\n",
       "    <tr>\n",
       "      <th>4</th>\n",
       "      <td>0.0</td>\n",
       "      <td>None</td>\n",
       "      <td>None</td>\n",
       "      <td>None</td>\n",
       "      <td>http://www.reddit.com/r/PhotoshopRequest/comme...</td>\n",
       "      <td>None</td>\n",
       "      <td>10ev4t</td>\n",
       "      <td>0</td>\n",
       "      <td>NaN</td>\n",
       "      <td>1348521357</td>\n",
       "      <td>...</td>\n",
       "      <td>NaN</td>\n",
       "      <td>NaN</td>\n",
       "      <td>NaN</td>\n",
       "      <td>NaN</td>\n",
       "      <td>NaN</td>\n",
       "      <td>NaN</td>\n",
       "      <td>NaN</td>\n",
       "      <td>NaN</td>\n",
       "      <td>NaN</td>\n",
       "      <td>NaN</td>\n",
       "    </tr>\n",
       "    <tr>\n",
       "      <th>...</th>\n",
       "      <td>...</td>\n",
       "      <td>...</td>\n",
       "      <td>...</td>\n",
       "      <td>...</td>\n",
       "      <td>...</td>\n",
       "      <td>...</td>\n",
       "      <td>...</td>\n",
       "      <td>...</td>\n",
       "      <td>...</td>\n",
       "      <td>...</td>\n",
       "      <td>...</td>\n",
       "      <td>...</td>\n",
       "      <td>...</td>\n",
       "      <td>...</td>\n",
       "      <td>...</td>\n",
       "      <td>...</td>\n",
       "      <td>...</td>\n",
       "      <td>...</td>\n",
       "      <td>...</td>\n",
       "      <td>...</td>\n",
       "      <td>...</td>\n",
       "    </tr>\n",
       "    <tr>\n",
       "      <th>636939</th>\n",
       "      <td>0.0</td>\n",
       "      <td>Free :snoo:</td>\n",
       "      <td>None</td>\n",
       "      <td>None</td>\n",
       "      <td>https://i.redd.it/4r99hxvru9ae1.jpeg</td>\n",
       "      <td>free</td>\n",
       "      <td>1hqr3oq</td>\n",
       "      <td>0</td>\n",
       "      <td>0.0</td>\n",
       "      <td>1735689083</td>\n",
       "      <td>...</td>\n",
       "      <td>NaN</td>\n",
       "      <td>NaN</td>\n",
       "      <td>https://i.redd.it/4r99hxvru9ae1.jpeg</td>\n",
       "      <td>NaN</td>\n",
       "      <td>NaN</td>\n",
       "      <td>NaN</td>\n",
       "      <td>0.0</td>\n",
       "      <td>1.735689e+09</td>\n",
       "      <td>NaN</td>\n",
       "      <td>{'removal_type': 'deleted', 'retrieved_2nd_on'...</td>\n",
       "    </tr>\n",
       "    <tr>\n",
       "      <th>636940</th>\n",
       "      <td>0.0</td>\n",
       "      <td>Paid :redditgold:</td>\n",
       "      <td>None</td>\n",
       "      <td>None</td>\n",
       "      <td>https://www.reddit.com/gallery/1hqr3v5</td>\n",
       "      <td>paid</td>\n",
       "      <td>1hqr3v5</td>\n",
       "      <td>0</td>\n",
       "      <td>0.0</td>\n",
       "      <td>1735689100</td>\n",
       "      <td>...</td>\n",
       "      <td>NaN</td>\n",
       "      <td>NaN</td>\n",
       "      <td>https://www.reddit.com/gallery/1hqr3v5</td>\n",
       "      <td>{'items': [{'id': 577726924, 'media_id': 'vdae...</td>\n",
       "      <td>1.0</td>\n",
       "      <td>NaN</td>\n",
       "      <td>0.0</td>\n",
       "      <td>1.735689e+09</td>\n",
       "      <td>NaN</td>\n",
       "      <td>{'removal_type': 'deleted', 'retrieved_2nd_on'...</td>\n",
       "    </tr>\n",
       "    <tr>\n",
       "      <th>636941</th>\n",
       "      <td>0.0</td>\n",
       "      <td>Paid :redditgold:</td>\n",
       "      <td>None</td>\n",
       "      <td>None</td>\n",
       "      <td>https://i.redd.it/beugcd1lv9ae1.jpeg</td>\n",
       "      <td>paid</td>\n",
       "      <td>1hqr6n8</td>\n",
       "      <td>0</td>\n",
       "      <td>0.0</td>\n",
       "      <td>1735689368</td>\n",
       "      <td>...</td>\n",
       "      <td>NaN</td>\n",
       "      <td>NaN</td>\n",
       "      <td>https://i.redd.it/beugcd1lv9ae1.jpeg</td>\n",
       "      <td>NaN</td>\n",
       "      <td>NaN</td>\n",
       "      <td>NaN</td>\n",
       "      <td>0.0</td>\n",
       "      <td>1.735689e+09</td>\n",
       "      <td>NaN</td>\n",
       "      <td>{'removal_type': 'deleted', 'retrieved_2nd_on'...</td>\n",
       "    </tr>\n",
       "    <tr>\n",
       "      <th>636942</th>\n",
       "      <td>0.0</td>\n",
       "      <td>Paid :redditgold:</td>\n",
       "      <td>None</td>\n",
       "      <td>None</td>\n",
       "      <td>https://i.redd.it/wk3lm6jsv9ae1.jpeg</td>\n",
       "      <td>paid</td>\n",
       "      <td>1hqr796</td>\n",
       "      <td>0</td>\n",
       "      <td>0.0</td>\n",
       "      <td>1735689425</td>\n",
       "      <td>...</td>\n",
       "      <td>NaN</td>\n",
       "      <td>NaN</td>\n",
       "      <td>https://i.redd.it/wk3lm6jsv9ae1.jpeg</td>\n",
       "      <td>NaN</td>\n",
       "      <td>NaN</td>\n",
       "      <td>NaN</td>\n",
       "      <td>0.0</td>\n",
       "      <td>1.735689e+09</td>\n",
       "      <td>NaN</td>\n",
       "      <td>{'retrieved_2nd_on': 1735819032}</td>\n",
       "    </tr>\n",
       "    <tr>\n",
       "      <th>636943</th>\n",
       "      <td>0.0</td>\n",
       "      <td>Free :snoo:</td>\n",
       "      <td>None</td>\n",
       "      <td>None</td>\n",
       "      <td>https://www.reddit.com/gallery/1hqr8wk</td>\n",
       "      <td>free</td>\n",
       "      <td>1hqr8wk</td>\n",
       "      <td>0</td>\n",
       "      <td>0.0</td>\n",
       "      <td>1735689585</td>\n",
       "      <td>...</td>\n",
       "      <td>NaN</td>\n",
       "      <td>NaN</td>\n",
       "      <td>https://www.reddit.com/gallery/1hqr8wk</td>\n",
       "      <td>{'items': [{'id': 577730164, 'media_id': 'rzj8...</td>\n",
       "      <td>1.0</td>\n",
       "      <td>NaN</td>\n",
       "      <td>0.0</td>\n",
       "      <td>1.735690e+09</td>\n",
       "      <td>NaN</td>\n",
       "      <td>{'retrieved_2nd_on': 1735819199}</td>\n",
       "    </tr>\n",
       "  </tbody>\n",
       "</table>\n",
       "<p>636944 rows × 130 columns</p>\n",
       "</div>"
      ],
      "text/plain": [
       "        downs    link_flair_text distinguished media  \\\n",
       "0         0.0               None          None  None   \n",
       "1         0.0               None          None  None   \n",
       "2         0.0               None          None  None   \n",
       "3         0.0               None          None  None   \n",
       "4         0.0               None          None  None   \n",
       "...       ...                ...           ...   ...   \n",
       "636939    0.0        Free :snoo:          None  None   \n",
       "636940    0.0  Paid :redditgold:          None  None   \n",
       "636941    0.0  Paid :redditgold:          None  None   \n",
       "636942    0.0  Paid :redditgold:          None  None   \n",
       "636943    0.0        Free :snoo:          None  None   \n",
       "\n",
       "                                                      url  \\\n",
       "0       http://www.reddit.com/r/PhotoshopRequest/comme...   \n",
       "1       http://www.reddit.com/r/PhotoshopRequest/comme...   \n",
       "2       http://www.reddit.com/r/PhotoshopRequest/comme...   \n",
       "3       http://www.reddit.com/r/PhotoshopRequest/comme...   \n",
       "4       http://www.reddit.com/r/PhotoshopRequest/comme...   \n",
       "...                                                   ...   \n",
       "636939               https://i.redd.it/4r99hxvru9ae1.jpeg   \n",
       "636940             https://www.reddit.com/gallery/1hqr3v5   \n",
       "636941               https://i.redd.it/beugcd1lv9ae1.jpeg   \n",
       "636942               https://i.redd.it/wk3lm6jsv9ae1.jpeg   \n",
       "636943             https://www.reddit.com/gallery/1hqr8wk   \n",
       "\n",
       "       link_flair_css_class       id  edited  num_reports  created_utc  ...  \\\n",
       "0                      None    v9h62       0          NaN   1340082463  ...   \n",
       "1                      None    v9fi1       0          NaN   1340080357  ...   \n",
       "2                      None    x43s2       0          NaN   1343188886  ...   \n",
       "3                      None   10by6r       0          NaN   1348378155  ...   \n",
       "4                      None   10ev4t       0          NaN   1348521357  ...   \n",
       "...                     ...      ...     ...          ...          ...  ...   \n",
       "636939                 free  1hqr3oq       0          0.0   1735689083  ...   \n",
       "636940                 paid  1hqr3v5       0          0.0   1735689100  ...   \n",
       "636941                 paid  1hqr6n8       0          0.0   1735689368  ...   \n",
       "636942                 paid  1hqr796       0          0.0   1735689425  ...   \n",
       "636943                 free  1hqr8wk       0          0.0   1735689585  ...   \n",
       "\n",
       "        retrieved_utc top_awarded_type  \\\n",
       "0                 NaN              NaN   \n",
       "1                 NaN              NaN   \n",
       "2                 NaN              NaN   \n",
       "3                 NaN              NaN   \n",
       "4                 NaN              NaN   \n",
       "...               ...              ...   \n",
       "636939            NaN              NaN   \n",
       "636940            NaN              NaN   \n",
       "636941            NaN              NaN   \n",
       "636942            NaN              NaN   \n",
       "636943            NaN              NaN   \n",
       "\n",
       "                        url_overridden_by_dest  \\\n",
       "0                                          NaN   \n",
       "1                                          NaN   \n",
       "2                                          NaN   \n",
       "3                                          NaN   \n",
       "4                                          NaN   \n",
       "...                                        ...   \n",
       "636939    https://i.redd.it/4r99hxvru9ae1.jpeg   \n",
       "636940  https://www.reddit.com/gallery/1hqr3v5   \n",
       "636941    https://i.redd.it/beugcd1lv9ae1.jpeg   \n",
       "636942    https://i.redd.it/wk3lm6jsv9ae1.jpeg   \n",
       "636943  https://www.reddit.com/gallery/1hqr8wk   \n",
       "\n",
       "                                             gallery_data is_gallery  \\\n",
       "0                                                     NaN        NaN   \n",
       "1                                                     NaN        NaN   \n",
       "2                                                     NaN        NaN   \n",
       "3                                                     NaN        NaN   \n",
       "4                                                     NaN        NaN   \n",
       "...                                                   ...        ...   \n",
       "636939                                                NaN        NaN   \n",
       "636940  {'items': [{'id': 577726924, 'media_id': 'vdae...        1.0   \n",
       "636941                                                NaN        NaN   \n",
       "636942                                                NaN        NaN   \n",
       "636943  {'items': [{'id': 577730164, 'media_id': 'rzj8...        1.0   \n",
       "\n",
       "        call_to_action author_is_blocked    updated_on previous_selftext  \\\n",
       "0                  NaN               NaN           NaN               NaN   \n",
       "1                  NaN               NaN           NaN               NaN   \n",
       "2                  NaN               NaN           NaN               NaN   \n",
       "3                  NaN               NaN           NaN               NaN   \n",
       "4                  NaN               NaN           NaN               NaN   \n",
       "...                ...               ...           ...               ...   \n",
       "636939             NaN               0.0  1.735689e+09               NaN   \n",
       "636940             NaN               0.0  1.735689e+09               NaN   \n",
       "636941             NaN               0.0  1.735689e+09               NaN   \n",
       "636942             NaN               0.0  1.735689e+09               NaN   \n",
       "636943             NaN               0.0  1.735690e+09               NaN   \n",
       "\n",
       "                                                    _meta  \n",
       "0                                                     NaN  \n",
       "1                                                     NaN  \n",
       "2                                                     NaN  \n",
       "3                                                     NaN  \n",
       "4                                                     NaN  \n",
       "...                                                   ...  \n",
       "636939  {'removal_type': 'deleted', 'retrieved_2nd_on'...  \n",
       "636940  {'removal_type': 'deleted', 'retrieved_2nd_on'...  \n",
       "636941  {'removal_type': 'deleted', 'retrieved_2nd_on'...  \n",
       "636942                   {'retrieved_2nd_on': 1735819032}  \n",
       "636943                   {'retrieved_2nd_on': 1735819199}  \n",
       "\n",
       "[636944 rows x 130 columns]"
      ]
     },
     "execution_count": 2,
     "metadata": {},
     "output_type": "execute_result"
    }
   ],
   "source": [
    "# Скачал .torrent-файл отсюда: https://academictorrents.com/details/1614740ac8c94505e4ecb9d88be8bed7b6afddd4\n",
    "# Выбрал только PhotoshopRequest_submissions, загрузил, распаковал (датасет тяжелый, нужно подождать)\n",
    "\n",
    "raw = pd.read_json('PhotoshopRequest_submissions', lines=True)\n",
    "raw"
   ]
  },
  {
   "cell_type": "code",
   "execution_count": 6,
   "id": "9396bf5f-87f8-454c-8418-edae8647f9df",
   "metadata": {},
   "outputs": [],
   "source": [
    "# Перед переходом к API-способу и агрегации, слегка облегчим этот датасет\n",
    "# сначала найдем все бессмысленные признаки\n",
    "single_value_cols = []\n",
    "dict_cols = []\n",
    "for col in raw.columns:\n",
    "    try:\n",
    "        if raw[col].nunique() <= 1:\n",
    "            single_value_cols.append(col)\n",
    "    except TypeError:\n",
    "        dict_cols.append(col)"
   ]
  },
  {
   "cell_type": "code",
   "execution_count": 7,
   "id": "4ea34544-b13a-4e99-bc56-ac05ee739569",
   "metadata": {
    "scrolled": true
   },
   "outputs": [
    {
     "data": {
      "text/plain": [
       "['downs',\n",
       " 'distinguished',\n",
       " 'num_reports',\n",
       " 'banned_by',\n",
       " 'subreddit',\n",
       " 'likes',\n",
       " 'clicked',\n",
       " 'saved',\n",
       " 'subreddit_id',\n",
       " 'approved_by',\n",
       " 'hidden',\n",
       " 'from',\n",
       " 'from_kind',\n",
       " 'from_id',\n",
       " 'quarantine',\n",
       " 'suggested_sort',\n",
       " 'brand_safe',\n",
       " 'author_cakeday',\n",
       " 'view_count',\n",
       " 'approved_at_utc',\n",
       " 'banned_at_utc',\n",
       " 'can_mod_post',\n",
       " 'parent_whitelist_status',\n",
       " 'pinned',\n",
       " 'subreddit_type',\n",
       " 'mod_note',\n",
       " 'mod_reason_by',\n",
       " 'mod_reason_title',\n",
       " 'category',\n",
       " 'content_categories',\n",
       " 'is_original_content',\n",
       " 'media_only',\n",
       " 'post_categories',\n",
       " 'pwls',\n",
       " 'removal_reason',\n",
       " 'visited',\n",
       " 'is_meta',\n",
       " 'subreddit_name_prefixed',\n",
       " 'author_patreon_flair',\n",
       " 'discussion_type',\n",
       " 'removed_by',\n",
       " 'is_created_from_ads_ui',\n",
       " 'top_awarded_type',\n",
       " 'gallery_data',\n",
       " 'is_gallery',\n",
       " 'call_to_action',\n",
       " 'author_is_blocked']"
      ]
     },
     "execution_count": 7,
     "metadata": {},
     "output_type": "execute_result"
    }
   ],
   "source": [
    "single_value_cols"
   ]
  },
  {
   "cell_type": "markdown",
   "id": "a224ed38-a376-4a5f-9936-a103be0c4f12",
   "metadata": {},
   "source": [
    "Это фичи, которые содержат либо `None`, либо какое-то одинаковое для всех значение (например, `0`).\n",
    "\n",
    "Я просмотрел их все по порядку, и выделил только два полезных столбца:"
   ]
  },
  {
   "cell_type": "code",
   "execution_count": 3,
   "id": "f3c34c8d-f218-4a86-8093-078104055964",
   "metadata": {},
   "outputs": [
    {
     "data": {
      "text/plain": [
       "distinguished\n",
       "moderator    35\n",
       "Name: count, dtype: int64"
      ]
     },
     "execution_count": 3,
     "metadata": {},
     "output_type": "execute_result"
    }
   ],
   "source": [
    "# пост ли это от модератора (нам такие не нужны, удаляем)\n",
    "raw['distinguished'].value_counts()"
   ]
  },
  {
   "cell_type": "code",
   "execution_count": 4,
   "id": "3b9509c8-7fc1-47e1-ae2b-45cd787272f6",
   "metadata": {},
   "outputs": [
    {
     "data": {
      "text/plain": [
       "is_gallery\n",
       "1.0    88345\n",
       "Name: count, dtype: int64"
      ]
     },
     "execution_count": 4,
     "metadata": {},
     "output_type": "execute_result"
    }
   ],
   "source": [
    "# загрузил ли автор сразу несколько картинок (галерею) - мы работаем только с одной картинкой на вход, такие удаляем\n",
    "raw['is_gallery'].value_counts()"
   ]
  },
  {
   "cell_type": "code",
   "execution_count": 5,
   "id": "4bb105c0-1d99-42a3-a235-41c192f8ed1e",
   "metadata": {},
   "outputs": [
    {
     "data": {
      "text/plain": [
       "548564"
      ]
     },
     "execution_count": 5,
     "metadata": {},
     "output_type": "execute_result"
    }
   ],
   "source": [
    "raw.drop(index=raw[raw['distinguished'] == 'moderator'].index, inplace=True)\n",
    "raw.drop(index=raw[raw['is_gallery'] == 1.0].index, inplace=True)\n",
    "len(raw)"
   ]
  },
  {
   "cell_type": "code",
   "execution_count": 9,
   "id": "46c3ef0e-6acf-4ccd-b41c-2d2efdeafb9d",
   "metadata": {},
   "outputs": [
    {
     "data": {
      "text/plain": [
       "83"
      ]
     },
     "execution_count": 9,
     "metadata": {},
     "output_type": "execute_result"
    }
   ],
   "source": [
    "# теперь удаляем все мусорные фичи\n",
    "raw.drop(columns=single_value_cols, inplace=True)\n",
    "len(raw.columns)"
   ]
  },
  {
   "cell_type": "markdown",
   "id": "2d7ca197-d87c-49f5-b18c-09c0a91807a2",
   "metadata": {},
   "source": [
    "При поиске неирнформативных признаков мы дополнительно отлавливали те, которые при вызове .nunique() дают TypeError - и складывали их в `dict_cols`. Это нехешируемые признаки (как правило, типа 'dict' или 'list'). Зачастую в них много мусорной мета-информации и прочих вещей, которые много весят и не нужны нам.\n",
    "\n",
    "Рассмотрим их:"
   ]
  },
  {
   "cell_type": "code",
   "execution_count": 10,
   "id": "5beda4dc-7ab3-4244-8853-891511413cd3",
   "metadata": {},
   "outputs": [
    {
     "data": {
      "text/plain": [
       "['media',\n",
       " 'media_embed',\n",
       " 'report_reasons',\n",
       " 'secure_media',\n",
       " 'secure_media_embed',\n",
       " 'mod_reports',\n",
       " 'user_reports',\n",
       " 'preview',\n",
       " 'crosspost_parent_list',\n",
       " 'author_flair_richtext',\n",
       " 'link_flair_richtext',\n",
       " 'media_metadata',\n",
       " 'previous_visits',\n",
       " 'gildings',\n",
       " 'all_awardings',\n",
       " 'awarders',\n",
       " 'treatment_tags',\n",
       " '_meta']"
      ]
     },
     "execution_count": 10,
     "metadata": {},
     "output_type": "execute_result"
    }
   ],
   "source": [
    "dict_cols"
   ]
  },
  {
   "cell_type": "code",
   "execution_count": 14,
   "id": "3d50bc38-a088-49dd-bd26-852c9a270ae4",
   "metadata": {},
   "outputs": [
    {
     "data": {
      "text/plain": [
       "{'oembed': {'provider_name': 'YouTube',\n",
       "  'provider_url': 'http://www.youtube.com/',\n",
       "  'title': 'Worst Sheep Rescue Ever',\n",
       "  'thumbnail_url': 'http://i.ytimg.com/vi/m7SVrt5H-dA/hqdefault.jpg',\n",
       "  'width': 600,\n",
       "  'thumbnail_width': 480,\n",
       "  'description': 'Subscribe! Worst Sheep Rescue Ever That moment when no one knows if everyone OK is kind of exciting. Sheep rescue New Zealand - Thoughtful how thoughtful of these people to rescue a sheep which had gotten stuck in some Worst Sheep Rescue EVER!!! Sheep Rescue attempt...',\n",
       "  'url': 'http://www.youtube.com/watch?v=m7SVrt5H-dA',\n",
       "  'type': 'video',\n",
       "  'author_url': 'http://www.youtube.com/user/MOVIEAWARDS2013',\n",
       "  'thumbnail_height': 360,\n",
       "  'author_name': 'Claudia HD',\n",
       "  'height': 450,\n",
       "  'html': '&lt;iframe class=\"embedly-embed\" src=\"//cdn.embedly.com/widgets/media.html?src=http%3A%2F%2Fwww.youtube.com%2Fembed%2Fm7SVrt5H-dA%3Ffeature%3Doembed&amp;url=https%3A%2F%2Fwww.youtube.com%2Fwatch%3Fv%3Dm7SVrt5H-dA&amp;image=http%3A%2F%2Fi.ytimg.com%2Fvi%2Fm7SVrt5H-dA%2Fhqdefault.jpg&amp;key=2aa3c4d5f3de4f5b9120b660ad850dc9&amp;type=text%2Fhtml&amp;schema=youtube\" width=\"600\" height=\"450\" scrolling=\"no\" frameborder=\"0\" allowfullscreen&gt;&lt;/iframe&gt;',\n",
       "  'version': '1.0'},\n",
       " 'type': 'youtube.com'}"
      ]
     },
     "execution_count": 14,
     "metadata": {},
     "output_type": "execute_result"
    }
   ],
   "source": [
    "# пример непустого значения признака 'media'\n",
    "raw[~raw['media'].isna()].sample(1)['media'].item()"
   ]
  },
  {
   "cell_type": "markdown",
   "id": "412ec63a-372a-4519-9f48-48a07ede16cb",
   "metadata": {},
   "source": [
    "Как видим, `media` содержит дамп метаданных видео, если автор поста прикрепил его.\n",
    "\n",
    "Этих данных может быть очень много, и они совершенно нам не нужны.\n",
    "\n",
    "Ссылку на картинку можно извлечь из более лёгких признаков, либо через `praw` по id поста. Так что для анализа данных нам нужны только id, title, selftext и немного полезных метаданных, вроде числа лайков, времени создания, и т.п.\n",
    "\n",
    "Поэтому media, secure_media и прочие тяжелые признаки-словари нам в нашей задаче ни к чему."
   ]
  },
  {
   "cell_type": "code",
   "execution_count": 42,
   "id": "3786ac9d-7b3f-4eb7-b24b-0502634d32da",
   "metadata": {},
   "outputs": [
    {
     "data": {
      "text/plain": [
       "65"
      ]
     },
     "execution_count": 42,
     "metadata": {},
     "output_type": "execute_result"
    }
   ],
   "source": [
    "raw.drop(columns=dict_cols, inplace=True)\n",
    "len(raw.columns)"
   ]
  },
  {
   "cell_type": "code",
   "execution_count": 46,
   "id": "23d0fcc7-3dd5-45a6-9448-1594dfd540e2",
   "metadata": {},
   "outputs": [],
   "source": [
    "# сохраняем облегченный датасет\n",
    "raw.reset_index(drop=True)\n",
    "raw.to_csv('posts.csv')"
   ]
  },
  {
   "cell_type": "code",
   "execution_count": 50,
   "id": "5c25e3d7-168c-4802-8ae2-8586207cef45",
   "metadata": {},
   "outputs": [],
   "source": [
    "del raw"
   ]
  },
  {
   "cell_type": "markdown",
   "id": "bece1194-ccee-41f0-86f8-796e0181b290",
   "metadata": {},
   "source": [
    "Итак, мы сократили датасет с **2.12Гб** до **335.5Мб**, и перевели его в более удобный формат."
   ]
  },
  {
   "cell_type": "code",
   "execution_count": 2,
   "id": "c0cf4338-a048-4a7a-8f4e-449ef3f45260",
   "metadata": {},
   "outputs": [
    {
     "name": "stderr",
     "output_type": "stream",
     "text": [
      "/var/folders/p_/mk0v57f13s7dcq7xcryjqlh0s_k83c/T/ipykernel_2564/3955965540.py:1: DtypeWarning: Columns (7,9,13,20,28,38,40,44,45,46,47,48,49,50,52,53,55,59,63,65) have mixed types. Specify dtype option on import or set low_memory=False.\n",
      "  df = pd.read_csv('/Users/21977981/Downloads/reddit/subreddits24/posts.csv').drop(columns='Unnamed: 0')\n"
     ]
    },
    {
     "data": {
      "text/html": [
       "<div>\n",
       "<style scoped>\n",
       "    .dataframe tbody tr th:only-of-type {\n",
       "        vertical-align: middle;\n",
       "    }\n",
       "\n",
       "    .dataframe tbody tr th {\n",
       "        vertical-align: top;\n",
       "    }\n",
       "\n",
       "    .dataframe thead th {\n",
       "        text-align: right;\n",
       "    }\n",
       "</style>\n",
       "<table border=\"1\" class=\"dataframe\">\n",
       "  <thead>\n",
       "    <tr style=\"text-align: right;\">\n",
       "      <th></th>\n",
       "      <th>link_flair_text</th>\n",
       "      <th>url</th>\n",
       "      <th>link_flair_css_class</th>\n",
       "      <th>id</th>\n",
       "      <th>edited</th>\n",
       "      <th>created_utc</th>\n",
       "      <th>name</th>\n",
       "      <th>title</th>\n",
       "      <th>author_flair_text</th>\n",
       "      <th>is_self</th>\n",
       "      <th>...</th>\n",
       "      <th>is_robot_indexable</th>\n",
       "      <th>total_awards_received</th>\n",
       "      <th>allow_live_comments</th>\n",
       "      <th>removed_by_category</th>\n",
       "      <th>author_premium</th>\n",
       "      <th>upvote_ratio</th>\n",
       "      <th>retrieved_utc</th>\n",
       "      <th>url_overridden_by_dest</th>\n",
       "      <th>updated_on</th>\n",
       "      <th>previous_selftext</th>\n",
       "    </tr>\n",
       "  </thead>\n",
       "  <tbody>\n",
       "    <tr>\n",
       "      <th>0</th>\n",
       "      <td>NaN</td>\n",
       "      <td>http://www.reddit.com/r/PhotoshopRequest/comme...</td>\n",
       "      <td>NaN</td>\n",
       "      <td>v9h62</td>\n",
       "      <td>0</td>\n",
       "      <td>1340082463</td>\n",
       "      <td>t3_v9h62</td>\n",
       "      <td>Can someone edit this pic for me?</td>\n",
       "      <td>NaN</td>\n",
       "      <td>True</td>\n",
       "      <td>...</td>\n",
       "      <td>NaN</td>\n",
       "      <td>NaN</td>\n",
       "      <td>NaN</td>\n",
       "      <td>NaN</td>\n",
       "      <td>NaN</td>\n",
       "      <td>NaN</td>\n",
       "      <td>NaN</td>\n",
       "      <td>NaN</td>\n",
       "      <td>NaN</td>\n",
       "      <td>NaN</td>\n",
       "    </tr>\n",
       "    <tr>\n",
       "      <th>1</th>\n",
       "      <td>NaN</td>\n",
       "      <td>http://www.reddit.com/r/PhotoshopRequest/comme...</td>\n",
       "      <td>NaN</td>\n",
       "      <td>v9fi1</td>\n",
       "      <td>0</td>\n",
       "      <td>1340080357</td>\n",
       "      <td>t3_v9fi1</td>\n",
       "      <td>Can someone edit this picture for me?</td>\n",
       "      <td>NaN</td>\n",
       "      <td>True</td>\n",
       "      <td>...</td>\n",
       "      <td>NaN</td>\n",
       "      <td>NaN</td>\n",
       "      <td>NaN</td>\n",
       "      <td>NaN</td>\n",
       "      <td>NaN</td>\n",
       "      <td>NaN</td>\n",
       "      <td>NaN</td>\n",
       "      <td>NaN</td>\n",
       "      <td>NaN</td>\n",
       "      <td>NaN</td>\n",
       "    </tr>\n",
       "    <tr>\n",
       "      <th>2</th>\n",
       "      <td>NaN</td>\n",
       "      <td>http://www.reddit.com/r/PhotoshopRequest/comme...</td>\n",
       "      <td>NaN</td>\n",
       "      <td>x43s2</td>\n",
       "      <td>0</td>\n",
       "      <td>1343188886</td>\n",
       "      <td>t3_x43s2</td>\n",
       "      <td>Need Subreddit Mascot</td>\n",
       "      <td>NaN</td>\n",
       "      <td>True</td>\n",
       "      <td>...</td>\n",
       "      <td>NaN</td>\n",
       "      <td>NaN</td>\n",
       "      <td>NaN</td>\n",
       "      <td>NaN</td>\n",
       "      <td>NaN</td>\n",
       "      <td>NaN</td>\n",
       "      <td>NaN</td>\n",
       "      <td>NaN</td>\n",
       "      <td>NaN</td>\n",
       "      <td>NaN</td>\n",
       "    </tr>\n",
       "    <tr>\n",
       "      <th>3</th>\n",
       "      <td>NaN</td>\n",
       "      <td>http://www.reddit.com/r/PhotoshopRequest/comme...</td>\n",
       "      <td>NaN</td>\n",
       "      <td>10by6r</td>\n",
       "      <td>0</td>\n",
       "      <td>1348378155</td>\n",
       "      <td>NaN</td>\n",
       "      <td>Can you create a logo for my brand?</td>\n",
       "      <td>NaN</td>\n",
       "      <td>True</td>\n",
       "      <td>...</td>\n",
       "      <td>NaN</td>\n",
       "      <td>NaN</td>\n",
       "      <td>NaN</td>\n",
       "      <td>NaN</td>\n",
       "      <td>NaN</td>\n",
       "      <td>NaN</td>\n",
       "      <td>NaN</td>\n",
       "      <td>NaN</td>\n",
       "      <td>NaN</td>\n",
       "      <td>NaN</td>\n",
       "    </tr>\n",
       "    <tr>\n",
       "      <th>4</th>\n",
       "      <td>NaN</td>\n",
       "      <td>http://www.reddit.com/r/PhotoshopRequest/comme...</td>\n",
       "      <td>NaN</td>\n",
       "      <td>10ev4t</td>\n",
       "      <td>0</td>\n",
       "      <td>1348521357</td>\n",
       "      <td>NaN</td>\n",
       "      <td>I need to make a joke Birthday present for a f...</td>\n",
       "      <td>NaN</td>\n",
       "      <td>True</td>\n",
       "      <td>...</td>\n",
       "      <td>NaN</td>\n",
       "      <td>NaN</td>\n",
       "      <td>NaN</td>\n",
       "      <td>NaN</td>\n",
       "      <td>NaN</td>\n",
       "      <td>NaN</td>\n",
       "      <td>NaN</td>\n",
       "      <td>NaN</td>\n",
       "      <td>NaN</td>\n",
       "      <td>NaN</td>\n",
       "    </tr>\n",
       "    <tr>\n",
       "      <th>...</th>\n",
       "      <td>...</td>\n",
       "      <td>...</td>\n",
       "      <td>...</td>\n",
       "      <td>...</td>\n",
       "      <td>...</td>\n",
       "      <td>...</td>\n",
       "      <td>...</td>\n",
       "      <td>...</td>\n",
       "      <td>...</td>\n",
       "      <td>...</td>\n",
       "      <td>...</td>\n",
       "      <td>...</td>\n",
       "      <td>...</td>\n",
       "      <td>...</td>\n",
       "      <td>...</td>\n",
       "      <td>...</td>\n",
       "      <td>...</td>\n",
       "      <td>...</td>\n",
       "      <td>...</td>\n",
       "      <td>...</td>\n",
       "      <td>...</td>\n",
       "    </tr>\n",
       "    <tr>\n",
       "      <th>548559</th>\n",
       "      <td>Paid :redditgold:</td>\n",
       "      <td>https://i.redd.it/zqge6ajos9ae1.jpeg</td>\n",
       "      <td>paid</td>\n",
       "      <td>1hqqwb2</td>\n",
       "      <td>0</td>\n",
       "      <td>1735688379</td>\n",
       "      <td>t3_1hqqwb2</td>\n",
       "      <td>Is there anyway to sharpen this picture?</td>\n",
       "      <td>NaN</td>\n",
       "      <td>False</td>\n",
       "      <td>...</td>\n",
       "      <td>1.0</td>\n",
       "      <td>0.0</td>\n",
       "      <td>0.0</td>\n",
       "      <td>NaN</td>\n",
       "      <td>0.0</td>\n",
       "      <td>1.00</td>\n",
       "      <td>NaN</td>\n",
       "      <td>https://i.redd.it/zqge6ajos9ae1.jpeg</td>\n",
       "      <td>1.735688e+09</td>\n",
       "      <td>NaN</td>\n",
       "    </tr>\n",
       "    <tr>\n",
       "      <th>548560</th>\n",
       "      <td>Free :snoo:</td>\n",
       "      <td>https://i.redd.it/7sua3muxt9ae1.jpeg</td>\n",
       "      <td>free</td>\n",
       "      <td>1hqr0px</td>\n",
       "      <td>0</td>\n",
       "      <td>1735688802</td>\n",
       "      <td>t3_1hqr0px</td>\n",
       "      <td>just want a new lock screen</td>\n",
       "      <td>NaN</td>\n",
       "      <td>False</td>\n",
       "      <td>...</td>\n",
       "      <td>1.0</td>\n",
       "      <td>0.0</td>\n",
       "      <td>0.0</td>\n",
       "      <td>NaN</td>\n",
       "      <td>0.0</td>\n",
       "      <td>0.94</td>\n",
       "      <td>NaN</td>\n",
       "      <td>https://i.redd.it/7sua3muxt9ae1.jpeg</td>\n",
       "      <td>1.735689e+09</td>\n",
       "      <td>NaN</td>\n",
       "    </tr>\n",
       "    <tr>\n",
       "      <th>548561</th>\n",
       "      <td>Free :snoo:</td>\n",
       "      <td>https://i.redd.it/4r99hxvru9ae1.jpeg</td>\n",
       "      <td>free</td>\n",
       "      <td>1hqr3oq</td>\n",
       "      <td>0</td>\n",
       "      <td>1735689083</td>\n",
       "      <td>t3_1hqr3oq</td>\n",
       "      <td>Can someone make my fingers look less weird</td>\n",
       "      <td>NaN</td>\n",
       "      <td>False</td>\n",
       "      <td>...</td>\n",
       "      <td>1.0</td>\n",
       "      <td>0.0</td>\n",
       "      <td>0.0</td>\n",
       "      <td>NaN</td>\n",
       "      <td>0.0</td>\n",
       "      <td>1.00</td>\n",
       "      <td>NaN</td>\n",
       "      <td>https://i.redd.it/4r99hxvru9ae1.jpeg</td>\n",
       "      <td>1.735689e+09</td>\n",
       "      <td>NaN</td>\n",
       "    </tr>\n",
       "    <tr>\n",
       "      <th>548562</th>\n",
       "      <td>Paid :redditgold:</td>\n",
       "      <td>https://i.redd.it/beugcd1lv9ae1.jpeg</td>\n",
       "      <td>paid</td>\n",
       "      <td>1hqr6n8</td>\n",
       "      <td>0</td>\n",
       "      <td>1735689368</td>\n",
       "      <td>t3_1hqr6n8</td>\n",
       "      <td>Please remove individual in background - coffe...</td>\n",
       "      <td>NaN</td>\n",
       "      <td>False</td>\n",
       "      <td>...</td>\n",
       "      <td>1.0</td>\n",
       "      <td>0.0</td>\n",
       "      <td>0.0</td>\n",
       "      <td>NaN</td>\n",
       "      <td>0.0</td>\n",
       "      <td>1.00</td>\n",
       "      <td>NaN</td>\n",
       "      <td>https://i.redd.it/beugcd1lv9ae1.jpeg</td>\n",
       "      <td>1.735689e+09</td>\n",
       "      <td>NaN</td>\n",
       "    </tr>\n",
       "    <tr>\n",
       "      <th>548563</th>\n",
       "      <td>Paid :redditgold:</td>\n",
       "      <td>https://i.redd.it/wk3lm6jsv9ae1.jpeg</td>\n",
       "      <td>paid</td>\n",
       "      <td>1hqr796</td>\n",
       "      <td>0</td>\n",
       "      <td>1735689425</td>\n",
       "      <td>t3_1hqr796</td>\n",
       "      <td>Please remove the model out of this picture</td>\n",
       "      <td>NaN</td>\n",
       "      <td>False</td>\n",
       "      <td>...</td>\n",
       "      <td>0.0</td>\n",
       "      <td>0.0</td>\n",
       "      <td>0.0</td>\n",
       "      <td>moderator</td>\n",
       "      <td>0.0</td>\n",
       "      <td>1.00</td>\n",
       "      <td>NaN</td>\n",
       "      <td>https://i.redd.it/wk3lm6jsv9ae1.jpeg</td>\n",
       "      <td>1.735689e+09</td>\n",
       "      <td>NaN</td>\n",
       "    </tr>\n",
       "  </tbody>\n",
       "</table>\n",
       "<p>548564 rows × 65 columns</p>\n",
       "</div>"
      ],
      "text/plain": [
       "          link_flair_text                                                url  \\\n",
       "0                     NaN  http://www.reddit.com/r/PhotoshopRequest/comme...   \n",
       "1                     NaN  http://www.reddit.com/r/PhotoshopRequest/comme...   \n",
       "2                     NaN  http://www.reddit.com/r/PhotoshopRequest/comme...   \n",
       "3                     NaN  http://www.reddit.com/r/PhotoshopRequest/comme...   \n",
       "4                     NaN  http://www.reddit.com/r/PhotoshopRequest/comme...   \n",
       "...                   ...                                                ...   \n",
       "548559  Paid :redditgold:               https://i.redd.it/zqge6ajos9ae1.jpeg   \n",
       "548560        Free :snoo:               https://i.redd.it/7sua3muxt9ae1.jpeg   \n",
       "548561        Free :snoo:               https://i.redd.it/4r99hxvru9ae1.jpeg   \n",
       "548562  Paid :redditgold:               https://i.redd.it/beugcd1lv9ae1.jpeg   \n",
       "548563  Paid :redditgold:               https://i.redd.it/wk3lm6jsv9ae1.jpeg   \n",
       "\n",
       "       link_flair_css_class       id  edited  created_utc        name  \\\n",
       "0                       NaN    v9h62       0   1340082463    t3_v9h62   \n",
       "1                       NaN    v9fi1       0   1340080357    t3_v9fi1   \n",
       "2                       NaN    x43s2       0   1343188886    t3_x43s2   \n",
       "3                       NaN   10by6r       0   1348378155         NaN   \n",
       "4                       NaN   10ev4t       0   1348521357         NaN   \n",
       "...                     ...      ...     ...          ...         ...   \n",
       "548559                 paid  1hqqwb2       0   1735688379  t3_1hqqwb2   \n",
       "548560                 free  1hqr0px       0   1735688802  t3_1hqr0px   \n",
       "548561                 free  1hqr3oq       0   1735689083  t3_1hqr3oq   \n",
       "548562                 paid  1hqr6n8       0   1735689368  t3_1hqr6n8   \n",
       "548563                 paid  1hqr796       0   1735689425  t3_1hqr796   \n",
       "\n",
       "                                                    title author_flair_text  \\\n",
       "0                       Can someone edit this pic for me?               NaN   \n",
       "1                   Can someone edit this picture for me?               NaN   \n",
       "2                                   Need Subreddit Mascot               NaN   \n",
       "3                     Can you create a logo for my brand?               NaN   \n",
       "4       I need to make a joke Birthday present for a f...               NaN   \n",
       "...                                                   ...               ...   \n",
       "548559           Is there anyway to sharpen this picture?               NaN   \n",
       "548560                        just want a new lock screen               NaN   \n",
       "548561       Can someone make my fingers look less weird                NaN   \n",
       "548562  Please remove individual in background - coffe...               NaN   \n",
       "548563        Please remove the model out of this picture               NaN   \n",
       "\n",
       "        is_self  ... is_robot_indexable total_awards_received  \\\n",
       "0          True  ...                NaN                   NaN   \n",
       "1          True  ...                NaN                   NaN   \n",
       "2          True  ...                NaN                   NaN   \n",
       "3          True  ...                NaN                   NaN   \n",
       "4          True  ...                NaN                   NaN   \n",
       "...         ...  ...                ...                   ...   \n",
       "548559    False  ...                1.0                   0.0   \n",
       "548560    False  ...                1.0                   0.0   \n",
       "548561    False  ...                1.0                   0.0   \n",
       "548562    False  ...                1.0                   0.0   \n",
       "548563    False  ...                0.0                   0.0   \n",
       "\n",
       "       allow_live_comments removed_by_category author_premium  upvote_ratio  \\\n",
       "0                      NaN                 NaN            NaN           NaN   \n",
       "1                      NaN                 NaN            NaN           NaN   \n",
       "2                      NaN                 NaN            NaN           NaN   \n",
       "3                      NaN                 NaN            NaN           NaN   \n",
       "4                      NaN                 NaN            NaN           NaN   \n",
       "...                    ...                 ...            ...           ...   \n",
       "548559                 0.0                 NaN            0.0          1.00   \n",
       "548560                 0.0                 NaN            0.0          0.94   \n",
       "548561                 0.0                 NaN            0.0          1.00   \n",
       "548562                 0.0                 NaN            0.0          1.00   \n",
       "548563                 0.0           moderator            0.0          1.00   \n",
       "\n",
       "       retrieved_utc                url_overridden_by_dest    updated_on  \\\n",
       "0                NaN                                   NaN           NaN   \n",
       "1                NaN                                   NaN           NaN   \n",
       "2                NaN                                   NaN           NaN   \n",
       "3                NaN                                   NaN           NaN   \n",
       "4                NaN                                   NaN           NaN   \n",
       "...              ...                                   ...           ...   \n",
       "548559           NaN  https://i.redd.it/zqge6ajos9ae1.jpeg  1.735688e+09   \n",
       "548560           NaN  https://i.redd.it/7sua3muxt9ae1.jpeg  1.735689e+09   \n",
       "548561           NaN  https://i.redd.it/4r99hxvru9ae1.jpeg  1.735689e+09   \n",
       "548562           NaN  https://i.redd.it/beugcd1lv9ae1.jpeg  1.735689e+09   \n",
       "548563           NaN  https://i.redd.it/wk3lm6jsv9ae1.jpeg  1.735689e+09   \n",
       "\n",
       "       previous_selftext  \n",
       "0                    NaN  \n",
       "1                    NaN  \n",
       "2                    NaN  \n",
       "3                    NaN  \n",
       "4                    NaN  \n",
       "...                  ...  \n",
       "548559               NaN  \n",
       "548560               NaN  \n",
       "548561               NaN  \n",
       "548562               NaN  \n",
       "548563               NaN  \n",
       "\n",
       "[548564 rows x 65 columns]"
      ]
     },
     "execution_count": 2,
     "metadata": {},
     "output_type": "execute_result"
    }
   ],
   "source": [
    "df = pd.read_csv('posts.csv').drop(columns='Unnamed: 0')\n",
    "df"
   ]
  },
  {
   "cell_type": "code",
   "execution_count": 51,
   "id": "654c99eb-1e58-4be9-b41c-ba80405c41c5",
   "metadata": {},
   "outputs": [
    {
     "data": {
      "text/plain": [
       "Index(['link_flair_text', 'url', 'link_flair_css_class', 'id', 'edited',\n",
       "       'created_utc', 'name', 'title', 'author_flair_text', 'is_self',\n",
       "       'author', 'permalink', 'author_flair_css_class', 'selftext', 'domain',\n",
       "       'num_comments', 'thumbnail', 'ups', 'score', 'selftext_html', 'created',\n",
       "       'over_18', 'gilded', 'retrieved_on', 'stickied', 'archived',\n",
       "       'hide_score', 'post_hint', 'locked', 'contest_mode', 'spoiler',\n",
       "       'thumbnail_height', 'can_gild', 'thumbnail_width', 'is_video',\n",
       "       'is_crosspostable', 'num_crossposts', 'whitelist_status',\n",
       "       'is_reddit_media_domain', 'crosspost_parent', 'no_follow',\n",
       "       'send_replies', 'subreddit_subscribers',\n",
       "       'author_flair_background_color', 'author_flair_template_id',\n",
       "       'author_flair_text_color', 'author_flair_type', 'link_flair_text_color',\n",
       "       'link_flair_type', 'rte_mode', 'wls', 'link_flair_background_color',\n",
       "       'link_flair_template_id', 'author_created_utc', 'author_fullname',\n",
       "       'is_robot_indexable', 'total_awards_received', 'allow_live_comments',\n",
       "       'removed_by_category', 'author_premium', 'upvote_ratio',\n",
       "       'retrieved_utc', 'url_overridden_by_dest', 'updated_on',\n",
       "       'previous_selftext'],\n",
       "      dtype='object')"
      ]
     },
     "execution_count": 51,
     "metadata": {},
     "output_type": "execute_result"
    }
   ],
   "source": [
    "# теперь посмотрим на остальные признаки, почистим от ненужных\n",
    "df.columns"
   ]
  },
  {
   "cell_type": "markdown",
   "id": "0ce93694-665c-4b3d-9c1a-f6db5b7132d0",
   "metadata": {},
   "source": [
    "Я посмотрел `value_counts` каждого и отсеял неинформативные/ненужные нам фичи"
   ]
  },
  {
   "cell_type": "code",
   "execution_count": 3,
   "id": "2b31fc90-ac5e-4267-8cf6-75179c40e1d1",
   "metadata": {},
   "outputs": [
    {
     "data": {
      "text/plain": [
       "44"
      ]
     },
     "execution_count": 3,
     "metadata": {},
     "output_type": "execute_result"
    }
   ],
   "source": [
    "# удалим их\n",
    "df.drop(columns=['edited', 'selftext_html', 'gilded', 'retrieved_on', 'stickied', \n",
    " 'thumbnail_height', 'thumbnail_width', 'author_flair_background_color',\n",
    " 'author_flair_template_id', 'author_flair_text_color', 'author_flair_type',\n",
    " 'link_flair_text_color', 'link_flair_type', 'rte_mode', 'wls', 'link_flair_background_color', \n",
    " 'link_flair_template_id', 'allow_live_comments', 'retrieved_utc', 'updated_on', 'previous_selftext'], inplace=True)\n",
    "len(df.columns)"
   ]
  },
  {
   "cell_type": "code",
   "execution_count": 4,
   "id": "e64528fe-44b3-4811-b5f3-69459e8358d4",
   "metadata": {},
   "outputs": [],
   "source": [
    "df.to_csv('posts_cleaner.csv')"
   ]
  },
  {
   "cell_type": "code",
   "execution_count": 2,
   "id": "9da5ecee-3484-47c2-abb3-a469f53c25d5",
   "metadata": {},
   "outputs": [
    {
     "name": "stderr",
     "output_type": "stream",
     "text": [
      "/var/folders/p_/mk0v57f13s7dcq7xcryjqlh0s_k83c/T/ipykernel_3980/459886781.py:1: DtypeWarning: Columns (6,8,12,31,33,38,41,44) have mixed types. Specify dtype option on import or set low_memory=False.\n",
      "  df = pd.read_csv('/Users/21977981/Downloads/reddit/subreddits24/posts_cleaner.csv').drop(columns='Unnamed: 0')\n"
     ]
    },
    {
     "data": {
      "text/html": [
       "<div>\n",
       "<style scoped>\n",
       "    .dataframe tbody tr th:only-of-type {\n",
       "        vertical-align: middle;\n",
       "    }\n",
       "\n",
       "    .dataframe tbody tr th {\n",
       "        vertical-align: top;\n",
       "    }\n",
       "\n",
       "    .dataframe thead th {\n",
       "        text-align: right;\n",
       "    }\n",
       "</style>\n",
       "<table border=\"1\" class=\"dataframe\">\n",
       "  <thead>\n",
       "    <tr style=\"text-align: right;\">\n",
       "      <th></th>\n",
       "      <th>link_flair_text</th>\n",
       "      <th>url</th>\n",
       "      <th>link_flair_css_class</th>\n",
       "      <th>id</th>\n",
       "      <th>created_utc</th>\n",
       "      <th>name</th>\n",
       "      <th>title</th>\n",
       "      <th>author_flair_text</th>\n",
       "      <th>is_self</th>\n",
       "      <th>author</th>\n",
       "      <th>...</th>\n",
       "      <th>send_replies</th>\n",
       "      <th>subreddit_subscribers</th>\n",
       "      <th>author_created_utc</th>\n",
       "      <th>author_fullname</th>\n",
       "      <th>is_robot_indexable</th>\n",
       "      <th>total_awards_received</th>\n",
       "      <th>removed_by_category</th>\n",
       "      <th>author_premium</th>\n",
       "      <th>upvote_ratio</th>\n",
       "      <th>url_overridden_by_dest</th>\n",
       "    </tr>\n",
       "  </thead>\n",
       "  <tbody>\n",
       "    <tr>\n",
       "      <th>0</th>\n",
       "      <td>NaN</td>\n",
       "      <td>http://www.reddit.com/r/PhotoshopRequest/comme...</td>\n",
       "      <td>NaN</td>\n",
       "      <td>v9h62</td>\n",
       "      <td>1340082463</td>\n",
       "      <td>t3_v9h62</td>\n",
       "      <td>Can someone edit this pic for me?</td>\n",
       "      <td>NaN</td>\n",
       "      <td>True</td>\n",
       "      <td>UnknownReddit007</td>\n",
       "      <td>...</td>\n",
       "      <td>NaN</td>\n",
       "      <td>NaN</td>\n",
       "      <td>NaN</td>\n",
       "      <td>NaN</td>\n",
       "      <td>NaN</td>\n",
       "      <td>NaN</td>\n",
       "      <td>NaN</td>\n",
       "      <td>NaN</td>\n",
       "      <td>NaN</td>\n",
       "      <td>NaN</td>\n",
       "    </tr>\n",
       "    <tr>\n",
       "      <th>1</th>\n",
       "      <td>NaN</td>\n",
       "      <td>http://www.reddit.com/r/PhotoshopRequest/comme...</td>\n",
       "      <td>NaN</td>\n",
       "      <td>v9fi1</td>\n",
       "      <td>1340080357</td>\n",
       "      <td>t3_v9fi1</td>\n",
       "      <td>Can someone edit this picture for me?</td>\n",
       "      <td>NaN</td>\n",
       "      <td>True</td>\n",
       "      <td>[deleted]</td>\n",
       "      <td>...</td>\n",
       "      <td>NaN</td>\n",
       "      <td>NaN</td>\n",
       "      <td>NaN</td>\n",
       "      <td>NaN</td>\n",
       "      <td>NaN</td>\n",
       "      <td>NaN</td>\n",
       "      <td>NaN</td>\n",
       "      <td>NaN</td>\n",
       "      <td>NaN</td>\n",
       "      <td>NaN</td>\n",
       "    </tr>\n",
       "    <tr>\n",
       "      <th>2</th>\n",
       "      <td>NaN</td>\n",
       "      <td>http://www.reddit.com/r/PhotoshopRequest/comme...</td>\n",
       "      <td>NaN</td>\n",
       "      <td>x43s2</td>\n",
       "      <td>1343188886</td>\n",
       "      <td>t3_x43s2</td>\n",
       "      <td>Need Subreddit Mascot</td>\n",
       "      <td>NaN</td>\n",
       "      <td>True</td>\n",
       "      <td>nismomonkey</td>\n",
       "      <td>...</td>\n",
       "      <td>NaN</td>\n",
       "      <td>NaN</td>\n",
       "      <td>NaN</td>\n",
       "      <td>NaN</td>\n",
       "      <td>NaN</td>\n",
       "      <td>NaN</td>\n",
       "      <td>NaN</td>\n",
       "      <td>NaN</td>\n",
       "      <td>NaN</td>\n",
       "      <td>NaN</td>\n",
       "    </tr>\n",
       "    <tr>\n",
       "      <th>3</th>\n",
       "      <td>NaN</td>\n",
       "      <td>http://www.reddit.com/r/PhotoshopRequest/comme...</td>\n",
       "      <td>NaN</td>\n",
       "      <td>10by6r</td>\n",
       "      <td>1348378155</td>\n",
       "      <td>NaN</td>\n",
       "      <td>Can you create a logo for my brand?</td>\n",
       "      <td>NaN</td>\n",
       "      <td>True</td>\n",
       "      <td>Aerimae</td>\n",
       "      <td>...</td>\n",
       "      <td>NaN</td>\n",
       "      <td>NaN</td>\n",
       "      <td>NaN</td>\n",
       "      <td>NaN</td>\n",
       "      <td>NaN</td>\n",
       "      <td>NaN</td>\n",
       "      <td>NaN</td>\n",
       "      <td>NaN</td>\n",
       "      <td>NaN</td>\n",
       "      <td>NaN</td>\n",
       "    </tr>\n",
       "    <tr>\n",
       "      <th>4</th>\n",
       "      <td>NaN</td>\n",
       "      <td>http://www.reddit.com/r/PhotoshopRequest/comme...</td>\n",
       "      <td>NaN</td>\n",
       "      <td>10ev4t</td>\n",
       "      <td>1348521357</td>\n",
       "      <td>NaN</td>\n",
       "      <td>I need to make a joke Birthday present for a f...</td>\n",
       "      <td>NaN</td>\n",
       "      <td>True</td>\n",
       "      <td>[deleted]</td>\n",
       "      <td>...</td>\n",
       "      <td>NaN</td>\n",
       "      <td>NaN</td>\n",
       "      <td>NaN</td>\n",
       "      <td>NaN</td>\n",
       "      <td>NaN</td>\n",
       "      <td>NaN</td>\n",
       "      <td>NaN</td>\n",
       "      <td>NaN</td>\n",
       "      <td>NaN</td>\n",
       "      <td>NaN</td>\n",
       "    </tr>\n",
       "    <tr>\n",
       "      <th>...</th>\n",
       "      <td>...</td>\n",
       "      <td>...</td>\n",
       "      <td>...</td>\n",
       "      <td>...</td>\n",
       "      <td>...</td>\n",
       "      <td>...</td>\n",
       "      <td>...</td>\n",
       "      <td>...</td>\n",
       "      <td>...</td>\n",
       "      <td>...</td>\n",
       "      <td>...</td>\n",
       "      <td>...</td>\n",
       "      <td>...</td>\n",
       "      <td>...</td>\n",
       "      <td>...</td>\n",
       "      <td>...</td>\n",
       "      <td>...</td>\n",
       "      <td>...</td>\n",
       "      <td>...</td>\n",
       "      <td>...</td>\n",
       "      <td>...</td>\n",
       "    </tr>\n",
       "    <tr>\n",
       "      <th>548559</th>\n",
       "      <td>Paid :redditgold:</td>\n",
       "      <td>https://i.redd.it/zqge6ajos9ae1.jpeg</td>\n",
       "      <td>paid</td>\n",
       "      <td>1hqqwb2</td>\n",
       "      <td>1735688379</td>\n",
       "      <td>t3_1hqqwb2</td>\n",
       "      <td>Is there anyway to sharpen this picture?</td>\n",
       "      <td>NaN</td>\n",
       "      <td>False</td>\n",
       "      <td>holmesisonthecase</td>\n",
       "      <td>...</td>\n",
       "      <td>1.0</td>\n",
       "      <td>1325061.0</td>\n",
       "      <td>NaN</td>\n",
       "      <td>t2_9liljbau</td>\n",
       "      <td>1.0</td>\n",
       "      <td>0.0</td>\n",
       "      <td>NaN</td>\n",
       "      <td>0.0</td>\n",
       "      <td>1.00</td>\n",
       "      <td>https://i.redd.it/zqge6ajos9ae1.jpeg</td>\n",
       "    </tr>\n",
       "    <tr>\n",
       "      <th>548560</th>\n",
       "      <td>Free :snoo:</td>\n",
       "      <td>https://i.redd.it/7sua3muxt9ae1.jpeg</td>\n",
       "      <td>free</td>\n",
       "      <td>1hqr0px</td>\n",
       "      <td>1735688802</td>\n",
       "      <td>t3_1hqr0px</td>\n",
       "      <td>just want a new lock screen</td>\n",
       "      <td>NaN</td>\n",
       "      <td>False</td>\n",
       "      <td>nabi_sarang</td>\n",
       "      <td>...</td>\n",
       "      <td>1.0</td>\n",
       "      <td>1325069.0</td>\n",
       "      <td>NaN</td>\n",
       "      <td>t2_13stvrfuq4</td>\n",
       "      <td>1.0</td>\n",
       "      <td>0.0</td>\n",
       "      <td>NaN</td>\n",
       "      <td>0.0</td>\n",
       "      <td>0.94</td>\n",
       "      <td>https://i.redd.it/7sua3muxt9ae1.jpeg</td>\n",
       "    </tr>\n",
       "    <tr>\n",
       "      <th>548561</th>\n",
       "      <td>Free :snoo:</td>\n",
       "      <td>https://i.redd.it/4r99hxvru9ae1.jpeg</td>\n",
       "      <td>free</td>\n",
       "      <td>1hqr3oq</td>\n",
       "      <td>1735689083</td>\n",
       "      <td>t3_1hqr3oq</td>\n",
       "      <td>Can someone make my fingers look less weird</td>\n",
       "      <td>NaN</td>\n",
       "      <td>False</td>\n",
       "      <td>Sham-Shamm</td>\n",
       "      <td>...</td>\n",
       "      <td>1.0</td>\n",
       "      <td>1325070.0</td>\n",
       "      <td>NaN</td>\n",
       "      <td>t2_vj0dov7p</td>\n",
       "      <td>1.0</td>\n",
       "      <td>0.0</td>\n",
       "      <td>NaN</td>\n",
       "      <td>0.0</td>\n",
       "      <td>1.00</td>\n",
       "      <td>https://i.redd.it/4r99hxvru9ae1.jpeg</td>\n",
       "    </tr>\n",
       "    <tr>\n",
       "      <th>548562</th>\n",
       "      <td>Paid :redditgold:</td>\n",
       "      <td>https://i.redd.it/beugcd1lv9ae1.jpeg</td>\n",
       "      <td>paid</td>\n",
       "      <td>1hqr6n8</td>\n",
       "      <td>1735689368</td>\n",
       "      <td>t3_1hqr6n8</td>\n",
       "      <td>Please remove individual in background - coffe...</td>\n",
       "      <td>NaN</td>\n",
       "      <td>False</td>\n",
       "      <td>cantlearnemall</td>\n",
       "      <td>...</td>\n",
       "      <td>1.0</td>\n",
       "      <td>1325075.0</td>\n",
       "      <td>NaN</td>\n",
       "      <td>t2_r9h2g8wuj</td>\n",
       "      <td>1.0</td>\n",
       "      <td>0.0</td>\n",
       "      <td>NaN</td>\n",
       "      <td>0.0</td>\n",
       "      <td>1.00</td>\n",
       "      <td>https://i.redd.it/beugcd1lv9ae1.jpeg</td>\n",
       "    </tr>\n",
       "    <tr>\n",
       "      <th>548563</th>\n",
       "      <td>Paid :redditgold:</td>\n",
       "      <td>https://i.redd.it/wk3lm6jsv9ae1.jpeg</td>\n",
       "      <td>paid</td>\n",
       "      <td>1hqr796</td>\n",
       "      <td>1735689425</td>\n",
       "      <td>t3_1hqr796</td>\n",
       "      <td>Please remove the model out of this picture</td>\n",
       "      <td>NaN</td>\n",
       "      <td>False</td>\n",
       "      <td>BasicDanDiaz</td>\n",
       "      <td>...</td>\n",
       "      <td>1.0</td>\n",
       "      <td>1325078.0</td>\n",
       "      <td>NaN</td>\n",
       "      <td>t2_71f6inhy</td>\n",
       "      <td>0.0</td>\n",
       "      <td>0.0</td>\n",
       "      <td>moderator</td>\n",
       "      <td>0.0</td>\n",
       "      <td>1.00</td>\n",
       "      <td>https://i.redd.it/wk3lm6jsv9ae1.jpeg</td>\n",
       "    </tr>\n",
       "  </tbody>\n",
       "</table>\n",
       "<p>548564 rows × 44 columns</p>\n",
       "</div>"
      ],
      "text/plain": [
       "          link_flair_text                                                url  \\\n",
       "0                     NaN  http://www.reddit.com/r/PhotoshopRequest/comme...   \n",
       "1                     NaN  http://www.reddit.com/r/PhotoshopRequest/comme...   \n",
       "2                     NaN  http://www.reddit.com/r/PhotoshopRequest/comme...   \n",
       "3                     NaN  http://www.reddit.com/r/PhotoshopRequest/comme...   \n",
       "4                     NaN  http://www.reddit.com/r/PhotoshopRequest/comme...   \n",
       "...                   ...                                                ...   \n",
       "548559  Paid :redditgold:               https://i.redd.it/zqge6ajos9ae1.jpeg   \n",
       "548560        Free :snoo:               https://i.redd.it/7sua3muxt9ae1.jpeg   \n",
       "548561        Free :snoo:               https://i.redd.it/4r99hxvru9ae1.jpeg   \n",
       "548562  Paid :redditgold:               https://i.redd.it/beugcd1lv9ae1.jpeg   \n",
       "548563  Paid :redditgold:               https://i.redd.it/wk3lm6jsv9ae1.jpeg   \n",
       "\n",
       "       link_flair_css_class       id  created_utc        name  \\\n",
       "0                       NaN    v9h62   1340082463    t3_v9h62   \n",
       "1                       NaN    v9fi1   1340080357    t3_v9fi1   \n",
       "2                       NaN    x43s2   1343188886    t3_x43s2   \n",
       "3                       NaN   10by6r   1348378155         NaN   \n",
       "4                       NaN   10ev4t   1348521357         NaN   \n",
       "...                     ...      ...          ...         ...   \n",
       "548559                 paid  1hqqwb2   1735688379  t3_1hqqwb2   \n",
       "548560                 free  1hqr0px   1735688802  t3_1hqr0px   \n",
       "548561                 free  1hqr3oq   1735689083  t3_1hqr3oq   \n",
       "548562                 paid  1hqr6n8   1735689368  t3_1hqr6n8   \n",
       "548563                 paid  1hqr796   1735689425  t3_1hqr796   \n",
       "\n",
       "                                                    title author_flair_text  \\\n",
       "0                       Can someone edit this pic for me?               NaN   \n",
       "1                   Can someone edit this picture for me?               NaN   \n",
       "2                                   Need Subreddit Mascot               NaN   \n",
       "3                     Can you create a logo for my brand?               NaN   \n",
       "4       I need to make a joke Birthday present for a f...               NaN   \n",
       "...                                                   ...               ...   \n",
       "548559           Is there anyway to sharpen this picture?               NaN   \n",
       "548560                        just want a new lock screen               NaN   \n",
       "548561       Can someone make my fingers look less weird                NaN   \n",
       "548562  Please remove individual in background - coffe...               NaN   \n",
       "548563        Please remove the model out of this picture               NaN   \n",
       "\n",
       "        is_self             author  ... send_replies subreddit_subscribers  \\\n",
       "0          True   UnknownReddit007  ...          NaN                   NaN   \n",
       "1          True          [deleted]  ...          NaN                   NaN   \n",
       "2          True        nismomonkey  ...          NaN                   NaN   \n",
       "3          True            Aerimae  ...          NaN                   NaN   \n",
       "4          True          [deleted]  ...          NaN                   NaN   \n",
       "...         ...                ...  ...          ...                   ...   \n",
       "548559    False  holmesisonthecase  ...          1.0             1325061.0   \n",
       "548560    False        nabi_sarang  ...          1.0             1325069.0   \n",
       "548561    False         Sham-Shamm  ...          1.0             1325070.0   \n",
       "548562    False     cantlearnemall  ...          1.0             1325075.0   \n",
       "548563    False       BasicDanDiaz  ...          1.0             1325078.0   \n",
       "\n",
       "       author_created_utc author_fullname  is_robot_indexable  \\\n",
       "0                     NaN             NaN                 NaN   \n",
       "1                     NaN             NaN                 NaN   \n",
       "2                     NaN             NaN                 NaN   \n",
       "3                     NaN             NaN                 NaN   \n",
       "4                     NaN             NaN                 NaN   \n",
       "...                   ...             ...                 ...   \n",
       "548559                NaN     t2_9liljbau                 1.0   \n",
       "548560                NaN   t2_13stvrfuq4                 1.0   \n",
       "548561                NaN     t2_vj0dov7p                 1.0   \n",
       "548562                NaN    t2_r9h2g8wuj                 1.0   \n",
       "548563                NaN     t2_71f6inhy                 0.0   \n",
       "\n",
       "       total_awards_received  removed_by_category  author_premium  \\\n",
       "0                        NaN                  NaN             NaN   \n",
       "1                        NaN                  NaN             NaN   \n",
       "2                        NaN                  NaN             NaN   \n",
       "3                        NaN                  NaN             NaN   \n",
       "4                        NaN                  NaN             NaN   \n",
       "...                      ...                  ...             ...   \n",
       "548559                   0.0                  NaN             0.0   \n",
       "548560                   0.0                  NaN             0.0   \n",
       "548561                   0.0                  NaN             0.0   \n",
       "548562                   0.0                  NaN             0.0   \n",
       "548563                   0.0            moderator             0.0   \n",
       "\n",
       "        upvote_ratio                url_overridden_by_dest  \n",
       "0                NaN                                   NaN  \n",
       "1                NaN                                   NaN  \n",
       "2                NaN                                   NaN  \n",
       "3                NaN                                   NaN  \n",
       "4                NaN                                   NaN  \n",
       "...              ...                                   ...  \n",
       "548559          1.00  https://i.redd.it/zqge6ajos9ae1.jpeg  \n",
       "548560          0.94  https://i.redd.it/7sua3muxt9ae1.jpeg  \n",
       "548561          1.00  https://i.redd.it/4r99hxvru9ae1.jpeg  \n",
       "548562          1.00  https://i.redd.it/beugcd1lv9ae1.jpeg  \n",
       "548563          1.00  https://i.redd.it/wk3lm6jsv9ae1.jpeg  \n",
       "\n",
       "[548564 rows x 44 columns]"
      ]
     },
     "execution_count": 2,
     "metadata": {},
     "output_type": "execute_result"
    }
   ],
   "source": [
    "df = pd.read_csv('posts_cleaner.csv').drop(columns='Unnamed: 0')\n",
    "df"
   ]
  },
  {
   "cell_type": "markdown",
   "id": "56e54944-7606-4974-9ef5-680c488bb261",
   "metadata": {},
   "source": [
    "### Парсинг реддита черед API\n",
    "\n",
    "Актуальные посты можно получать через `praw` - python-библиотеку для парсинга реддита\n",
    "\n",
    "Мы уже сделали `import praw` в начале (нужно установить библиотеку, есть в `pip` и `conda-forge`)"
   ]
  },
  {
   "cell_type": "code",
   "execution_count": 3,
   "id": "4c4c0b88-339f-4de3-a0e3-9d6273b95112",
   "metadata": {},
   "outputs": [],
   "source": [
    "# устанавливаем подключение\n",
    "reddit = praw.Reddit('bot1')"
   ]
  },
  {
   "cell_type": "markdown",
   "id": "2b633e7e-a8cc-455d-96ac-07a3db836391",
   "metadata": {},
   "source": [
    "Такой способ инициализации парсера безопасен, т.к. отделяет креды от кода.\n",
    "Нужные для инициализации креды кладутся в файл `praw.ini` следующим образом:\n",
    "\n",
    "```\n",
    "[bot1]\n",
    "client_id=your_id\n",
    "client_secret=your_secret\n",
    "user_agent=your_agent_name\n",
    "```\n",
    "Подробнее про `praw.ini` в документации: https://praw.readthedocs.io/en/stable/getting_started/configuration/prawini.html#praw-ini\n",
    "\n",
    "Для заполнения полей парсера выше нужно вместо заглушек проставить свои креды.\n",
    "\n",
    "Получить их можно, зарегистрировав свой `app` в Reddit, подробнее можно почитать, например, тут: https://business.reddithelp.com/s/article/Create-a-Reddit-Application"
   ]
  },
  {
   "cell_type": "markdown",
   "id": "1c82e52e-f066-436a-afe6-eeae1b6d2cae",
   "metadata": {},
   "source": [
    "Теперь давайте посмотрим, **что** и **как** нужно парсить через API.\n",
    "\n",
    "Для этого посмотрим список оставленных нами фичей и сравниим его с полями произвольного спаршенного через API поста."
   ]
  },
  {
   "cell_type": "code",
   "execution_count": 6,
   "id": "9a95b9c8-92ef-4b0d-b28e-51737c64f15c",
   "metadata": {},
   "outputs": [
    {
     "data": {
      "text/plain": [
       "Index(['link_flair_text', 'url', 'link_flair_css_class', 'id', 'created_utc',\n",
       "       'name', 'title', 'author_flair_text', 'is_self', 'author', 'permalink',\n",
       "       'author_flair_css_class', 'selftext', 'domain', 'num_comments',\n",
       "       'thumbnail', 'ups', 'score', 'created', 'over_18', 'archived',\n",
       "       'hide_score', 'post_hint', 'locked', 'contest_mode', 'spoiler',\n",
       "       'can_gild', 'is_video', 'is_crosspostable', 'num_crossposts',\n",
       "       'whitelist_status', 'is_reddit_media_domain', 'crosspost_parent',\n",
       "       'no_follow', 'send_replies', 'subreddit_subscribers',\n",
       "       'author_created_utc', 'author_fullname', 'is_robot_indexable',\n",
       "       'total_awards_received', 'removed_by_category', 'author_premium',\n",
       "       'upvote_ratio', 'url_overridden_by_dest'],\n",
       "      dtype='object')"
      ]
     },
     "execution_count": 6,
     "metadata": {},
     "output_type": "execute_result"
    }
   ],
   "source": [
    "df.columns"
   ]
  },
  {
   "cell_type": "code",
   "execution_count": 5,
   "id": "7ba30869-ebdd-4ed4-b49e-5c6cab279bdf",
   "metadata": {},
   "outputs": [
    {
     "data": {
      "text/plain": [
       "Submission(id='1jvc07l')"
      ]
     },
     "execution_count": 5,
     "metadata": {},
     "output_type": "execute_result"
    }
   ],
   "source": [
    "post = next(iter(reddit.subreddit('PhotoshopRequest').top(time_filter='week')))\n",
    "post"
   ]
  },
  {
   "cell_type": "code",
   "execution_count": 7,
   "id": "284ba18c-2b71-40e0-a567-fe16143e287a",
   "metadata": {},
   "outputs": [
    {
     "data": {
      "text/plain": [
       "dict_keys(['comment_limit', 'comment_sort', '_reddit', 'approved_at_utc', 'subreddit', 'selftext', 'author_fullname', 'saved', 'mod_reason_title', 'gilded', 'clicked', 'title', 'link_flair_richtext', 'subreddit_name_prefixed', 'hidden', 'pwls', 'link_flair_css_class', 'downs', 'thumbnail_height', 'top_awarded_type', 'hide_score', 'name', 'quarantine', 'link_flair_text_color', 'upvote_ratio', 'author_flair_background_color', 'ups', 'total_awards_received', 'media_embed', 'thumbnail_width', 'author_flair_template_id', 'is_original_content', 'user_reports', 'secure_media', 'is_reddit_media_domain', 'is_meta', 'category', 'secure_media_embed', 'link_flair_text', 'can_mod_post', 'score', 'approved_by', 'is_created_from_ads_ui', 'author_premium', 'thumbnail', 'edited', 'author_flair_css_class', 'author_flair_richtext', 'gildings', 'post_hint', 'content_categories', 'is_self', 'subreddit_type', 'created', 'link_flair_type', 'wls', 'removed_by_category', 'banned_by', 'author_flair_type', 'domain', 'allow_live_comments', 'selftext_html', 'likes', 'suggested_sort', 'banned_at_utc', 'url_overridden_by_dest', 'view_count', 'archived', 'no_follow', 'is_crosspostable', 'pinned', 'over_18', 'preview', 'all_awardings', 'awarders', 'media_only', 'link_flair_template_id', 'can_gild', 'spoiler', 'locked', 'author_flair_text', 'treatment_tags', 'visited', 'removed_by', 'mod_note', 'distinguished', 'subreddit_id', 'author_is_blocked', 'mod_reason_by', 'num_reports', 'removal_reason', 'link_flair_background_color', 'id', 'is_robot_indexable', 'report_reasons', 'author', 'discussion_type', 'num_comments', 'send_replies', 'contest_mode', 'mod_reports', 'author_patreon_flair', 'author_flair_text_color', 'permalink', 'stickied', 'url', 'subreddit_subscribers', 'created_utc', 'num_crossposts', 'media', 'is_video', '_fetched', '_additional_fetch_params', '_comments_by_id', 'num_duplicates', '_comments'])"
      ]
     },
     "execution_count": 7,
     "metadata": {},
     "output_type": "execute_result"
    }
   ],
   "source": [
    "post.__dict__.keys()"
   ]
  },
  {
   "cell_type": "markdown",
   "id": "455a7a64-c397-43cb-a114-27a2ce9ae1db",
   "metadata": {},
   "source": [
    "Как видим, многие из фичей напрямую лежат в посте аттрибутами, под теми же именами."
   ]
  },
  {
   "cell_type": "code",
   "execution_count": 8,
   "id": "ae5df231-e046-4816-9d80-5bd161ef1546",
   "metadata": {},
   "outputs": [
    {
     "name": "stdout",
     "output_type": "stream",
     "text": [
      "feature [whitelist_status] is not in reddit post attributes\n",
      "feature [crosspost_parent] is not in reddit post attributes\n",
      "feature [author_created_utc] is not in reddit post attributes\n"
     ]
    }
   ],
   "source": [
    "# проверим, все ли\n",
    "for feature in df.columns:\n",
    "    if feature not in post.__dict__.keys():\n",
    "        print(f'feature [{feature}] is not in reddit post attributes')"
   ]
  },
  {
   "cell_type": "markdown",
   "id": "16264be8-4fa0-44fb-b611-89103911634b",
   "metadata": {},
   "source": [
    "Отлично, нет только фичей очень сомнительной степени нужности."
   ]
  },
  {
   "cell_type": "code",
   "execution_count": 14,
   "id": "e9fefcdd-b069-4284-8d92-d87f8bd116ea",
   "metadata": {},
   "outputs": [
    {
     "data": {
      "text/html": [
       "<div>\n",
       "<style scoped>\n",
       "    .dataframe tbody tr th:only-of-type {\n",
       "        vertical-align: middle;\n",
       "    }\n",
       "\n",
       "    .dataframe tbody tr th {\n",
       "        vertical-align: top;\n",
       "    }\n",
       "\n",
       "    .dataframe thead th {\n",
       "        text-align: right;\n",
       "    }\n",
       "</style>\n",
       "<table border=\"1\" class=\"dataframe\">\n",
       "  <thead>\n",
       "    <tr style=\"text-align: right;\">\n",
       "      <th></th>\n",
       "      <th>link_flair_text</th>\n",
       "      <th>url</th>\n",
       "      <th>link_flair_css_class</th>\n",
       "      <th>id</th>\n",
       "      <th>created_utc</th>\n",
       "      <th>name</th>\n",
       "      <th>title</th>\n",
       "      <th>author_flair_text</th>\n",
       "      <th>is_self</th>\n",
       "      <th>author</th>\n",
       "      <th>...</th>\n",
       "      <th>send_replies</th>\n",
       "      <th>subreddit_subscribers</th>\n",
       "      <th>author_created_utc</th>\n",
       "      <th>author_fullname</th>\n",
       "      <th>is_robot_indexable</th>\n",
       "      <th>total_awards_received</th>\n",
       "      <th>removed_by_category</th>\n",
       "      <th>author_premium</th>\n",
       "      <th>upvote_ratio</th>\n",
       "      <th>url_overridden_by_dest</th>\n",
       "    </tr>\n",
       "  </thead>\n",
       "  <tbody>\n",
       "  </tbody>\n",
       "</table>\n",
       "<p>0 rows × 44 columns</p>\n",
       "</div>"
      ],
      "text/plain": [
       "Empty DataFrame\n",
       "Columns: [link_flair_text, url, link_flair_css_class, id, created_utc, name, title, author_flair_text, is_self, author, permalink, author_flair_css_class, selftext, domain, num_comments, thumbnail, ups, score, created, over_18, archived, hide_score, post_hint, locked, contest_mode, spoiler, can_gild, is_video, is_crosspostable, num_crossposts, whitelist_status, is_reddit_media_domain, crosspost_parent, no_follow, send_replies, subreddit_subscribers, author_created_utc, author_fullname, is_robot_indexable, total_awards_received, removed_by_category, author_premium, upvote_ratio, url_overridden_by_dest]\n",
       "Index: []\n",
       "\n",
       "[0 rows x 44 columns]"
      ]
     },
     "execution_count": 14,
     "metadata": {},
     "output_type": "execute_result"
    }
   ],
   "source": [
    "# создадим датасет, в который будем парсить\n",
    "praw_df = pd.DataFrame(columns=df.columns)\n",
    "praw_df"
   ]
  },
  {
   "cell_type": "code",
   "execution_count": 15,
   "id": "b8c03566-a7fb-4e05-94c5-8192b94a2021",
   "metadata": {},
   "outputs": [],
   "source": [
    "# попробуем положить в него распаршенный пример\n",
    "row = dict()\n",
    "for feature in df.columns:\n",
    "    if feature not in post.__dict__.keys():\n",
    "        row[feature] = np.nan\n",
    "    else:\n",
    "        row[feature] = post.__dict__[feature]\n",
    "praw_df.loc[len(praw_df)] = row"
   ]
  },
  {
   "cell_type": "code",
   "execution_count": 16,
   "id": "3a953146-0e11-43fa-b85e-b473a9bc7813",
   "metadata": {},
   "outputs": [
    {
     "data": {
      "text/html": [
       "<div>\n",
       "<style scoped>\n",
       "    .dataframe tbody tr th:only-of-type {\n",
       "        vertical-align: middle;\n",
       "    }\n",
       "\n",
       "    .dataframe tbody tr th {\n",
       "        vertical-align: top;\n",
       "    }\n",
       "\n",
       "    .dataframe thead th {\n",
       "        text-align: right;\n",
       "    }\n",
       "</style>\n",
       "<table border=\"1\" class=\"dataframe\">\n",
       "  <thead>\n",
       "    <tr style=\"text-align: right;\">\n",
       "      <th></th>\n",
       "      <th>link_flair_text</th>\n",
       "      <th>url</th>\n",
       "      <th>link_flair_css_class</th>\n",
       "      <th>id</th>\n",
       "      <th>created_utc</th>\n",
       "      <th>name</th>\n",
       "      <th>title</th>\n",
       "      <th>author_flair_text</th>\n",
       "      <th>is_self</th>\n",
       "      <th>author</th>\n",
       "      <th>...</th>\n",
       "      <th>send_replies</th>\n",
       "      <th>subreddit_subscribers</th>\n",
       "      <th>author_created_utc</th>\n",
       "      <th>author_fullname</th>\n",
       "      <th>is_robot_indexable</th>\n",
       "      <th>total_awards_received</th>\n",
       "      <th>removed_by_category</th>\n",
       "      <th>author_premium</th>\n",
       "      <th>upvote_ratio</th>\n",
       "      <th>url_overridden_by_dest</th>\n",
       "    </tr>\n",
       "  </thead>\n",
       "  <tbody>\n",
       "    <tr>\n",
       "      <th>0</th>\n",
       "      <td>Solved ✅</td>\n",
       "      <td>https://i.redd.it/15xio2k9kute1.jpeg</td>\n",
       "      <td></td>\n",
       "      <td>1jvc07l</td>\n",
       "      <td>1.744221e+09</td>\n",
       "      <td>t3_1jvc07l</td>\n",
       "      <td>Please put my girlfriend's idiot in a suit and...</td>\n",
       "      <td>None</td>\n",
       "      <td>False</td>\n",
       "      <td>ThruggNasty</td>\n",
       "      <td>...</td>\n",
       "      <td>True</td>\n",
       "      <td>1558010</td>\n",
       "      <td>NaN</td>\n",
       "      <td>t2_9s5fdnro</td>\n",
       "      <td>True</td>\n",
       "      <td>0</td>\n",
       "      <td>None</td>\n",
       "      <td>False</td>\n",
       "      <td>0.97</td>\n",
       "      <td>https://i.redd.it/15xio2k9kute1.jpeg</td>\n",
       "    </tr>\n",
       "  </tbody>\n",
       "</table>\n",
       "<p>1 rows × 44 columns</p>\n",
       "</div>"
      ],
      "text/plain": [
       "  link_flair_text                                   url link_flair_css_class  \\\n",
       "0        Solved ✅  https://i.redd.it/15xio2k9kute1.jpeg                        \n",
       "\n",
       "        id   created_utc        name  \\\n",
       "0  1jvc07l  1.744221e+09  t3_1jvc07l   \n",
       "\n",
       "                                               title author_flair_text  \\\n",
       "0  Please put my girlfriend's idiot in a suit and...              None   \n",
       "\n",
       "   is_self       author  ... send_replies subreddit_subscribers  \\\n",
       "0    False  ThruggNasty  ...         True               1558010   \n",
       "\n",
       "  author_created_utc author_fullname  is_robot_indexable  \\\n",
       "0                NaN     t2_9s5fdnro                True   \n",
       "\n",
       "  total_awards_received  removed_by_category  author_premium  upvote_ratio  \\\n",
       "0                     0                 None           False          0.97   \n",
       "\n",
       "                 url_overridden_by_dest  \n",
       "0  https://i.redd.it/15xio2k9kute1.jpeg  \n",
       "\n",
       "[1 rows x 44 columns]"
      ]
     },
     "execution_count": 16,
     "metadata": {},
     "output_type": "execute_result"
    }
   ],
   "source": [
    "praw_df"
   ]
  },
  {
   "cell_type": "markdown",
   "id": "05b753e8-d43d-4757-99e7-570bb857035e",
   "metadata": {},
   "source": [
    "Отлично!\n",
    "\n",
    "Теперь распарсим таким образом топ-1000 постов за месяц (больше 1000 реддит не хранит в топе)"
   ]
  },
  {
   "cell_type": "code",
   "execution_count": 64,
   "id": "1a186ddb-77cd-4d30-8fd6-3fa855b566a1",
   "metadata": {},
   "outputs": [
    {
     "name": "stderr",
     "output_type": "stream",
     "text": [
      "995it [00:28, 35.33it/s]\n"
     ]
    }
   ],
   "source": [
    "praw_df = pd.DataFrame(columns=df.columns)\n",
    "for post in tqdm(reddit.subreddit('PhotoshopRequest').top(time_filter='month', limit=None)):\n",
    "    row = dict()\n",
    "    for feature in df.columns:\n",
    "        if feature not in post.__dict__.keys():\n",
    "            row[feature] = np.nan\n",
    "        else:\n",
    "            row[feature] = post.__dict__[feature]\n",
    "    praw_df.loc[len(praw_df)] = row"
   ]
  },
  {
   "cell_type": "code",
   "execution_count": 65,
   "id": "9c9bcb87-c9b9-43d5-8558-2c09b4e94a8e",
   "metadata": {},
   "outputs": [
    {
     "data": {
      "text/html": [
       "<div>\n",
       "<style scoped>\n",
       "    .dataframe tbody tr th:only-of-type {\n",
       "        vertical-align: middle;\n",
       "    }\n",
       "\n",
       "    .dataframe tbody tr th {\n",
       "        vertical-align: top;\n",
       "    }\n",
       "\n",
       "    .dataframe thead th {\n",
       "        text-align: right;\n",
       "    }\n",
       "</style>\n",
       "<table border=\"1\" class=\"dataframe\">\n",
       "  <thead>\n",
       "    <tr style=\"text-align: right;\">\n",
       "      <th></th>\n",
       "      <th>link_flair_text</th>\n",
       "      <th>url</th>\n",
       "      <th>link_flair_css_class</th>\n",
       "      <th>id</th>\n",
       "      <th>created_utc</th>\n",
       "      <th>name</th>\n",
       "      <th>title</th>\n",
       "      <th>author_flair_text</th>\n",
       "      <th>is_self</th>\n",
       "      <th>author</th>\n",
       "      <th>...</th>\n",
       "      <th>subreddit_subscribers</th>\n",
       "      <th>author_created_utc</th>\n",
       "      <th>author_fullname</th>\n",
       "      <th>is_robot_indexable</th>\n",
       "      <th>total_awards_received</th>\n",
       "      <th>removed_by_category</th>\n",
       "      <th>author_premium</th>\n",
       "      <th>upvote_ratio</th>\n",
       "      <th>url_overridden_by_dest</th>\n",
       "      <th>src</th>\n",
       "    </tr>\n",
       "  </thead>\n",
       "  <tbody>\n",
       "    <tr>\n",
       "      <th>0</th>\n",
       "      <td>Solved ✅</td>\n",
       "      <td>https://i.redd.it/ubff9kjh4nse1.jpeg</td>\n",
       "      <td></td>\n",
       "      <td>1jqltg2</td>\n",
       "      <td>1.743695e+09</td>\n",
       "      <td>t3_1jqltg2</td>\n",
       "      <td>Please Remove Obama, He Accidentally Photobomb...</td>\n",
       "      <td>None</td>\n",
       "      <td>False</td>\n",
       "      <td>fruchtiiii</td>\n",
       "      <td>...</td>\n",
       "      <td>1558726</td>\n",
       "      <td>NaN</td>\n",
       "      <td>t2_6ip77sjs</td>\n",
       "      <td>True</td>\n",
       "      <td>0</td>\n",
       "      <td>None</td>\n",
       "      <td>0.0</td>\n",
       "      <td>0.90</td>\n",
       "      <td>https://i.redd.it/ubff9kjh4nse1.jpeg</td>\n",
       "      <td>NaN</td>\n",
       "    </tr>\n",
       "    <tr>\n",
       "      <th>1</th>\n",
       "      <td>Solved ✅</td>\n",
       "      <td>https://www.reddit.com/gallery/1ji3qeq</td>\n",
       "      <td></td>\n",
       "      <td>1ji3qeq</td>\n",
       "      <td>1.742749e+09</td>\n",
       "      <td>t3_1ji3qeq</td>\n",
       "      <td>It’s my dogs birthday today, can you please ad...</td>\n",
       "      <td>None</td>\n",
       "      <td>False</td>\n",
       "      <td>diamondpupper</td>\n",
       "      <td>...</td>\n",
       "      <td>1558726</td>\n",
       "      <td>NaN</td>\n",
       "      <td>t2_348qpuor</td>\n",
       "      <td>True</td>\n",
       "      <td>0</td>\n",
       "      <td>None</td>\n",
       "      <td>0.0</td>\n",
       "      <td>0.97</td>\n",
       "      <td>https://www.reddit.com/gallery/1ji3qeq</td>\n",
       "      <td>NaN</td>\n",
       "    </tr>\n",
       "    <tr>\n",
       "      <th>2</th>\n",
       "      <td>Solved ✅</td>\n",
       "      <td>https://www.reddit.com/gallery/1jhg6s8</td>\n",
       "      <td></td>\n",
       "      <td>1jhg6s8</td>\n",
       "      <td>1.742671e+09</td>\n",
       "      <td>t3_1jhg6s8</td>\n",
       "      <td>My baby nephew has passed</td>\n",
       "      <td>None</td>\n",
       "      <td>False</td>\n",
       "      <td>AdMinimum3919</td>\n",
       "      <td>...</td>\n",
       "      <td>1558726</td>\n",
       "      <td>NaN</td>\n",
       "      <td>t2_7pq5ma1b</td>\n",
       "      <td>True</td>\n",
       "      <td>0</td>\n",
       "      <td>None</td>\n",
       "      <td>0.0</td>\n",
       "      <td>0.91</td>\n",
       "      <td>https://www.reddit.com/gallery/1jhg6s8</td>\n",
       "      <td>NaN</td>\n",
       "    </tr>\n",
       "    <tr>\n",
       "      <th>3</th>\n",
       "      <td>Solved ✅</td>\n",
       "      <td>https://i.redd.it/15xio2k9kute1.jpeg</td>\n",
       "      <td></td>\n",
       "      <td>1jvc07l</td>\n",
       "      <td>1.744221e+09</td>\n",
       "      <td>t3_1jvc07l</td>\n",
       "      <td>Please put my girlfriend's idiot in a suit and...</td>\n",
       "      <td>None</td>\n",
       "      <td>False</td>\n",
       "      <td>ThruggNasty</td>\n",
       "      <td>...</td>\n",
       "      <td>1558726</td>\n",
       "      <td>NaN</td>\n",
       "      <td>t2_9s5fdnro</td>\n",
       "      <td>True</td>\n",
       "      <td>0</td>\n",
       "      <td>None</td>\n",
       "      <td>0.0</td>\n",
       "      <td>0.97</td>\n",
       "      <td>https://i.redd.it/15xio2k9kute1.jpeg</td>\n",
       "      <td>NaN</td>\n",
       "    </tr>\n",
       "    <tr>\n",
       "      <th>4</th>\n",
       "      <td>Paid :redditgold:</td>\n",
       "      <td>https://i.redd.it/xkxq2spagpqe1.jpeg</td>\n",
       "      <td>paid</td>\n",
       "      <td>1jj2f2n</td>\n",
       "      <td>1.742851e+09</td>\n",
       "      <td>t3_1jj2f2n</td>\n",
       "      <td>My wife passed away in January and I love this...</td>\n",
       "      <td>None</td>\n",
       "      <td>False</td>\n",
       "      <td>lifesaberk</td>\n",
       "      <td>...</td>\n",
       "      <td>1558726</td>\n",
       "      <td>NaN</td>\n",
       "      <td>t2_4kqro0qr</td>\n",
       "      <td>True</td>\n",
       "      <td>0</td>\n",
       "      <td>None</td>\n",
       "      <td>0.0</td>\n",
       "      <td>0.99</td>\n",
       "      <td>https://i.redd.it/xkxq2spagpqe1.jpeg</td>\n",
       "      <td>NaN</td>\n",
       "    </tr>\n",
       "    <tr>\n",
       "      <th>...</th>\n",
       "      <td>...</td>\n",
       "      <td>...</td>\n",
       "      <td>...</td>\n",
       "      <td>...</td>\n",
       "      <td>...</td>\n",
       "      <td>...</td>\n",
       "      <td>...</td>\n",
       "      <td>...</td>\n",
       "      <td>...</td>\n",
       "      <td>...</td>\n",
       "      <td>...</td>\n",
       "      <td>...</td>\n",
       "      <td>...</td>\n",
       "      <td>...</td>\n",
       "      <td>...</td>\n",
       "      <td>...</td>\n",
       "      <td>...</td>\n",
       "      <td>...</td>\n",
       "      <td>...</td>\n",
       "      <td>...</td>\n",
       "      <td>...</td>\n",
       "    </tr>\n",
       "    <tr>\n",
       "      <th>990</th>\n",
       "      <td>Free :snoo:</td>\n",
       "      <td>https://www.reddit.com/gallery/1jdqztw</td>\n",
       "      <td>free</td>\n",
       "      <td>1jdqztw</td>\n",
       "      <td>1.742254e+09</td>\n",
       "      <td>t3_1jdqztw</td>\n",
       "      <td>Friend was shot (he's ok)</td>\n",
       "      <td>None</td>\n",
       "      <td>False</td>\n",
       "      <td>Made4tv__</td>\n",
       "      <td>...</td>\n",
       "      <td>1558729</td>\n",
       "      <td>NaN</td>\n",
       "      <td>t2_1bz2an3f</td>\n",
       "      <td>True</td>\n",
       "      <td>0</td>\n",
       "      <td>None</td>\n",
       "      <td>False</td>\n",
       "      <td>0.75</td>\n",
       "      <td>https://www.reddit.com/gallery/1jdqztw</td>\n",
       "      <td>NaN</td>\n",
       "    </tr>\n",
       "    <tr>\n",
       "      <th>991</th>\n",
       "      <td>Solved ✅</td>\n",
       "      <td>https://i.redd.it/v6ttme1p7bpe1.jpeg</td>\n",
       "      <td></td>\n",
       "      <td>1jdmvbc</td>\n",
       "      <td>1.742243e+09</td>\n",
       "      <td>t3_1jdmvbc</td>\n",
       "      <td>I had lovely vacation in morocco last summer. ...</td>\n",
       "      <td>None</td>\n",
       "      <td>False</td>\n",
       "      <td>selibendorf</td>\n",
       "      <td>...</td>\n",
       "      <td>1558729</td>\n",
       "      <td>NaN</td>\n",
       "      <td>t2_4mauww7k</td>\n",
       "      <td>True</td>\n",
       "      <td>0</td>\n",
       "      <td>None</td>\n",
       "      <td>False</td>\n",
       "      <td>0.73</td>\n",
       "      <td>https://i.redd.it/v6ttme1p7bpe1.jpeg</td>\n",
       "      <td>NaN</td>\n",
       "    </tr>\n",
       "    <tr>\n",
       "      <th>992</th>\n",
       "      <td>Solved ✅</td>\n",
       "      <td>https://www.reddit.com/gallery/1jdk787</td>\n",
       "      <td></td>\n",
       "      <td>1jdk787</td>\n",
       "      <td>1.742237e+09</td>\n",
       "      <td>t3_1jdk787</td>\n",
       "      <td>Give a dog a paw? Literally.</td>\n",
       "      <td>Requester :snoo:</td>\n",
       "      <td>False</td>\n",
       "      <td>Pretty_Appointment82</td>\n",
       "      <td>...</td>\n",
       "      <td>1558729</td>\n",
       "      <td>NaN</td>\n",
       "      <td>t2_c76db80w</td>\n",
       "      <td>True</td>\n",
       "      <td>0</td>\n",
       "      <td>None</td>\n",
       "      <td>False</td>\n",
       "      <td>0.84</td>\n",
       "      <td>https://www.reddit.com/gallery/1jdk787</td>\n",
       "      <td>NaN</td>\n",
       "    </tr>\n",
       "    <tr>\n",
       "      <th>993</th>\n",
       "      <td>Paid :redditgold:</td>\n",
       "      <td>https://i.redd.it/yyv22b48d9pe1.jpeg</td>\n",
       "      <td>None</td>\n",
       "      <td>1jddn2b</td>\n",
       "      <td>1.742221e+09</td>\n",
       "      <td>t3_1jddn2b</td>\n",
       "      <td>I’d there any way this photo can be made clear...</td>\n",
       "      <td>None</td>\n",
       "      <td>False</td>\n",
       "      <td>jy725</td>\n",
       "      <td>...</td>\n",
       "      <td>1558729</td>\n",
       "      <td>NaN</td>\n",
       "      <td>t2_u7nz8</td>\n",
       "      <td>True</td>\n",
       "      <td>0</td>\n",
       "      <td>None</td>\n",
       "      <td>False</td>\n",
       "      <td>1.00</td>\n",
       "      <td>https://i.redd.it/yyv22b48d9pe1.jpeg</td>\n",
       "      <td>NaN</td>\n",
       "    </tr>\n",
       "    <tr>\n",
       "      <th>994</th>\n",
       "      <td>Solved ✅</td>\n",
       "      <td>https://www.reddit.com/gallery/1jcvmkn</td>\n",
       "      <td>None</td>\n",
       "      <td>1jcvmkn</td>\n",
       "      <td>1.742159e+09</td>\n",
       "      <td>t3_1jcvmkn</td>\n",
       "      <td>Fur fun! 1. emo tweenager; 2. burnt out rocker</td>\n",
       "      <td>None</td>\n",
       "      <td>False</td>\n",
       "      <td>ParticularIcy7225</td>\n",
       "      <td>...</td>\n",
       "      <td>1558729</td>\n",
       "      <td>NaN</td>\n",
       "      <td>t2_7w2d1ufb</td>\n",
       "      <td>True</td>\n",
       "      <td>0</td>\n",
       "      <td>None</td>\n",
       "      <td>False</td>\n",
       "      <td>1.00</td>\n",
       "      <td>https://www.reddit.com/gallery/1jcvmkn</td>\n",
       "      <td>NaN</td>\n",
       "    </tr>\n",
       "  </tbody>\n",
       "</table>\n",
       "<p>995 rows × 45 columns</p>\n",
       "</div>"
      ],
      "text/plain": [
       "       link_flair_text                                     url  \\\n",
       "0             Solved ✅    https://i.redd.it/ubff9kjh4nse1.jpeg   \n",
       "1             Solved ✅  https://www.reddit.com/gallery/1ji3qeq   \n",
       "2             Solved ✅  https://www.reddit.com/gallery/1jhg6s8   \n",
       "3             Solved ✅    https://i.redd.it/15xio2k9kute1.jpeg   \n",
       "4    Paid :redditgold:    https://i.redd.it/xkxq2spagpqe1.jpeg   \n",
       "..                 ...                                     ...   \n",
       "990        Free :snoo:  https://www.reddit.com/gallery/1jdqztw   \n",
       "991           Solved ✅    https://i.redd.it/v6ttme1p7bpe1.jpeg   \n",
       "992           Solved ✅  https://www.reddit.com/gallery/1jdk787   \n",
       "993  Paid :redditgold:    https://i.redd.it/yyv22b48d9pe1.jpeg   \n",
       "994           Solved ✅  https://www.reddit.com/gallery/1jcvmkn   \n",
       "\n",
       "    link_flair_css_class       id   created_utc        name  \\\n",
       "0                         1jqltg2  1.743695e+09  t3_1jqltg2   \n",
       "1                         1ji3qeq  1.742749e+09  t3_1ji3qeq   \n",
       "2                         1jhg6s8  1.742671e+09  t3_1jhg6s8   \n",
       "3                         1jvc07l  1.744221e+09  t3_1jvc07l   \n",
       "4                   paid  1jj2f2n  1.742851e+09  t3_1jj2f2n   \n",
       "..                   ...      ...           ...         ...   \n",
       "990                 free  1jdqztw  1.742254e+09  t3_1jdqztw   \n",
       "991                       1jdmvbc  1.742243e+09  t3_1jdmvbc   \n",
       "992                       1jdk787  1.742237e+09  t3_1jdk787   \n",
       "993                 None  1jddn2b  1.742221e+09  t3_1jddn2b   \n",
       "994                 None  1jcvmkn  1.742159e+09  t3_1jcvmkn   \n",
       "\n",
       "                                                 title author_flair_text  \\\n",
       "0    Please Remove Obama, He Accidentally Photobomb...              None   \n",
       "1    It’s my dogs birthday today, can you please ad...              None   \n",
       "2                            My baby nephew has passed              None   \n",
       "3    Please put my girlfriend's idiot in a suit and...              None   \n",
       "4    My wife passed away in January and I love this...              None   \n",
       "..                                                 ...               ...   \n",
       "990                          Friend was shot (he's ok)              None   \n",
       "991  I had lovely vacation in morocco last summer. ...              None   \n",
       "992                       Give a dog a paw? Literally.  Requester :snoo:   \n",
       "993  I’d there any way this photo can be made clear...              None   \n",
       "994     Fur fun! 1. emo tweenager; 2. burnt out rocker              None   \n",
       "\n",
       "     is_self                author  ... subreddit_subscribers  \\\n",
       "0      False            fruchtiiii  ...               1558726   \n",
       "1      False         diamondpupper  ...               1558726   \n",
       "2      False         AdMinimum3919  ...               1558726   \n",
       "3      False           ThruggNasty  ...               1558726   \n",
       "4      False            lifesaberk  ...               1558726   \n",
       "..       ...                   ...  ...                   ...   \n",
       "990    False             Made4tv__  ...               1558729   \n",
       "991    False           selibendorf  ...               1558729   \n",
       "992    False  Pretty_Appointment82  ...               1558729   \n",
       "993    False                 jy725  ...               1558729   \n",
       "994    False     ParticularIcy7225  ...               1558729   \n",
       "\n",
       "    author_created_utc author_fullname is_robot_indexable  \\\n",
       "0                  NaN     t2_6ip77sjs               True   \n",
       "1                  NaN     t2_348qpuor               True   \n",
       "2                  NaN     t2_7pq5ma1b               True   \n",
       "3                  NaN     t2_9s5fdnro               True   \n",
       "4                  NaN     t2_4kqro0qr               True   \n",
       "..                 ...             ...                ...   \n",
       "990                NaN     t2_1bz2an3f               True   \n",
       "991                NaN     t2_4mauww7k               True   \n",
       "992                NaN     t2_c76db80w               True   \n",
       "993                NaN        t2_u7nz8               True   \n",
       "994                NaN     t2_7w2d1ufb               True   \n",
       "\n",
       "     total_awards_received removed_by_category  author_premium  upvote_ratio  \\\n",
       "0                        0                None             0.0          0.90   \n",
       "1                        0                None             0.0          0.97   \n",
       "2                        0                None             0.0          0.91   \n",
       "3                        0                None             0.0          0.97   \n",
       "4                        0                None             0.0          0.99   \n",
       "..                     ...                 ...             ...           ...   \n",
       "990                      0                None           False          0.75   \n",
       "991                      0                None           False          0.73   \n",
       "992                      0                None           False          0.84   \n",
       "993                      0                None           False          1.00   \n",
       "994                      0                None           False          1.00   \n",
       "\n",
       "                     url_overridden_by_dest  src  \n",
       "0      https://i.redd.it/ubff9kjh4nse1.jpeg  NaN  \n",
       "1    https://www.reddit.com/gallery/1ji3qeq  NaN  \n",
       "2    https://www.reddit.com/gallery/1jhg6s8  NaN  \n",
       "3      https://i.redd.it/15xio2k9kute1.jpeg  NaN  \n",
       "4      https://i.redd.it/xkxq2spagpqe1.jpeg  NaN  \n",
       "..                                      ...  ...  \n",
       "990  https://www.reddit.com/gallery/1jdqztw  NaN  \n",
       "991    https://i.redd.it/v6ttme1p7bpe1.jpeg  NaN  \n",
       "992  https://www.reddit.com/gallery/1jdk787  NaN  \n",
       "993    https://i.redd.it/yyv22b48d9pe1.jpeg  NaN  \n",
       "994  https://www.reddit.com/gallery/1jcvmkn  NaN  \n",
       "\n",
       "[995 rows x 45 columns]"
      ]
     },
     "execution_count": 65,
     "metadata": {},
     "output_type": "execute_result"
    }
   ],
   "source": [
    "praw_df"
   ]
  },
  {
   "cell_type": "markdown",
   "id": "0485e97a-0291-4318-b170-725327da7dee",
   "metadata": {},
   "source": [
    "Попробуем также спарсить топ постов за год и топ постов за неделю (будем пропускать те, что у нас уже есть)"
   ]
  },
  {
   "cell_type": "code",
   "execution_count": 66,
   "id": "d2d5bee5-dc79-4f46-a1dd-4eb9da954f72",
   "metadata": {},
   "outputs": [
    {
     "name": "stderr",
     "output_type": "stream",
     "text": [
      "997it [01:07, 14.88it/s]\n"
     ]
    }
   ],
   "source": [
    "for post in tqdm(reddit.subreddit('PhotoshopRequest').top(time_filter='year', limit=None)):\n",
    "    if post.id not in list(df['id']) and post.id not in list(praw_df['id']):\n",
    "        row = dict()\n",
    "        for feature in df.columns:\n",
    "            if feature not in post.__dict__.keys():\n",
    "                row[feature] = np.nan\n",
    "            else:\n",
    "                row[feature] = post.__dict__[feature]\n",
    "        praw_df.loc[len(praw_df)] = row"
   ]
  },
  {
   "cell_type": "code",
   "execution_count": 67,
   "id": "c674f057-34ed-46fc-b62c-50afaddbde6f",
   "metadata": {},
   "outputs": [
    {
     "data": {
      "text/plain": [
       "1275"
      ]
     },
     "execution_count": 67,
     "metadata": {},
     "output_type": "execute_result"
    }
   ],
   "source": [
    "len(praw_df)"
   ]
  },
  {
   "cell_type": "code",
   "execution_count": 68,
   "id": "c1f675fa-5c00-419d-84f7-7e9c6187ffdf",
   "metadata": {},
   "outputs": [
    {
     "name": "stderr",
     "output_type": "stream",
     "text": [
      "998it [01:07, 14.76it/s]\n"
     ]
    }
   ],
   "source": [
    "for post in tqdm(reddit.subreddit('PhotoshopRequest').top(time_filter='week', limit=None)):\n",
    "    if post.id not in list(df['id']) and post.id not in list(praw_df['id']):\n",
    "        row = dict()\n",
    "        for feature in df.columns:\n",
    "            if feature not in post.__dict__.keys():\n",
    "                row[feature] = np.nan\n",
    "            else:\n",
    "                row[feature] = post.__dict__[feature]\n",
    "        praw_df.loc[len(praw_df)] = row"
   ]
  },
  {
   "cell_type": "code",
   "execution_count": 69,
   "id": "e26c9ff0-2be0-4ed8-b870-c81935064c3d",
   "metadata": {},
   "outputs": [
    {
     "data": {
      "text/plain": [
       "2031"
      ]
     },
     "execution_count": 69,
     "metadata": {},
     "output_type": "execute_result"
    }
   ],
   "source": [
    "len(praw_df)"
   ]
  },
  {
   "cell_type": "markdown",
   "id": "e41bbe43-d8ea-445f-a4ea-a1fd1ee85c4c",
   "metadata": {},
   "source": [
    "По сравнению с архивом это немного, но мы собрали всё что смогли. Более того, парсить можно на постоянной основе. Можно автоматизировать процесс и запускать финальный скрипт парсинга, допустим, раз в неделю.\n",
    "\n",
    "Также, поскольку фактический источник данных одинаков, то и распределения архивных и новых данных не должны глобально отличаться."
   ]
  },
  {
   "cell_type": "markdown",
   "id": "5c17546c-09a6-4eda-9402-369f417bc0bb",
   "metadata": {},
   "source": [
    "## **[2]** Проведите их агрегацию, создав единый датасет.\n",
    "\n",
    "Поскольку мы заранее настроили парсинг в формате архивных данных, вся агрегация будет заключаться в простой конкатенации табличек"
   ]
  },
  {
   "cell_type": "code",
   "execution_count": 70,
   "id": "6a8eaa6d-f94f-4692-8ec2-48c562dcd00e",
   "metadata": {},
   "outputs": [],
   "source": [
    "df['src'] = 'archive'\n",
    "praw_df['src'] = 'api'"
   ]
  },
  {
   "cell_type": "code",
   "execution_count": 71,
   "id": "cee62ac0-bd00-4fc5-a7ed-a5c9e0d62e96",
   "metadata": {},
   "outputs": [
    {
     "data": {
      "text/html": [
       "<div>\n",
       "<style scoped>\n",
       "    .dataframe tbody tr th:only-of-type {\n",
       "        vertical-align: middle;\n",
       "    }\n",
       "\n",
       "    .dataframe tbody tr th {\n",
       "        vertical-align: top;\n",
       "    }\n",
       "\n",
       "    .dataframe thead th {\n",
       "        text-align: right;\n",
       "    }\n",
       "</style>\n",
       "<table border=\"1\" class=\"dataframe\">\n",
       "  <thead>\n",
       "    <tr style=\"text-align: right;\">\n",
       "      <th></th>\n",
       "      <th>link_flair_text</th>\n",
       "      <th>url</th>\n",
       "      <th>link_flair_css_class</th>\n",
       "      <th>id</th>\n",
       "      <th>created_utc</th>\n",
       "      <th>name</th>\n",
       "      <th>title</th>\n",
       "      <th>author_flair_text</th>\n",
       "      <th>is_self</th>\n",
       "      <th>author</th>\n",
       "      <th>...</th>\n",
       "      <th>subreddit_subscribers</th>\n",
       "      <th>author_created_utc</th>\n",
       "      <th>author_fullname</th>\n",
       "      <th>is_robot_indexable</th>\n",
       "      <th>total_awards_received</th>\n",
       "      <th>removed_by_category</th>\n",
       "      <th>author_premium</th>\n",
       "      <th>upvote_ratio</th>\n",
       "      <th>url_overridden_by_dest</th>\n",
       "      <th>src</th>\n",
       "    </tr>\n",
       "  </thead>\n",
       "  <tbody>\n",
       "    <tr>\n",
       "      <th>0</th>\n",
       "      <td>NaN</td>\n",
       "      <td>http://www.reddit.com/r/PhotoshopRequest/comme...</td>\n",
       "      <td>NaN</td>\n",
       "      <td>v9h62</td>\n",
       "      <td>1.340082e+09</td>\n",
       "      <td>t3_v9h62</td>\n",
       "      <td>Can someone edit this pic for me?</td>\n",
       "      <td>NaN</td>\n",
       "      <td>True</td>\n",
       "      <td>UnknownReddit007</td>\n",
       "      <td>...</td>\n",
       "      <td>NaN</td>\n",
       "      <td>NaN</td>\n",
       "      <td>NaN</td>\n",
       "      <td>NaN</td>\n",
       "      <td>NaN</td>\n",
       "      <td>NaN</td>\n",
       "      <td>NaN</td>\n",
       "      <td>NaN</td>\n",
       "      <td>NaN</td>\n",
       "      <td>archive</td>\n",
       "    </tr>\n",
       "    <tr>\n",
       "      <th>1</th>\n",
       "      <td>NaN</td>\n",
       "      <td>http://www.reddit.com/r/PhotoshopRequest/comme...</td>\n",
       "      <td>NaN</td>\n",
       "      <td>v9fi1</td>\n",
       "      <td>1.340080e+09</td>\n",
       "      <td>t3_v9fi1</td>\n",
       "      <td>Can someone edit this picture for me?</td>\n",
       "      <td>NaN</td>\n",
       "      <td>True</td>\n",
       "      <td>[deleted]</td>\n",
       "      <td>...</td>\n",
       "      <td>NaN</td>\n",
       "      <td>NaN</td>\n",
       "      <td>NaN</td>\n",
       "      <td>NaN</td>\n",
       "      <td>NaN</td>\n",
       "      <td>NaN</td>\n",
       "      <td>NaN</td>\n",
       "      <td>NaN</td>\n",
       "      <td>NaN</td>\n",
       "      <td>archive</td>\n",
       "    </tr>\n",
       "    <tr>\n",
       "      <th>2</th>\n",
       "      <td>NaN</td>\n",
       "      <td>http://www.reddit.com/r/PhotoshopRequest/comme...</td>\n",
       "      <td>NaN</td>\n",
       "      <td>x43s2</td>\n",
       "      <td>1.343189e+09</td>\n",
       "      <td>t3_x43s2</td>\n",
       "      <td>Need Subreddit Mascot</td>\n",
       "      <td>NaN</td>\n",
       "      <td>True</td>\n",
       "      <td>nismomonkey</td>\n",
       "      <td>...</td>\n",
       "      <td>NaN</td>\n",
       "      <td>NaN</td>\n",
       "      <td>NaN</td>\n",
       "      <td>NaN</td>\n",
       "      <td>NaN</td>\n",
       "      <td>NaN</td>\n",
       "      <td>NaN</td>\n",
       "      <td>NaN</td>\n",
       "      <td>NaN</td>\n",
       "      <td>archive</td>\n",
       "    </tr>\n",
       "    <tr>\n",
       "      <th>3</th>\n",
       "      <td>NaN</td>\n",
       "      <td>http://www.reddit.com/r/PhotoshopRequest/comme...</td>\n",
       "      <td>NaN</td>\n",
       "      <td>10by6r</td>\n",
       "      <td>1.348378e+09</td>\n",
       "      <td>NaN</td>\n",
       "      <td>Can you create a logo for my brand?</td>\n",
       "      <td>NaN</td>\n",
       "      <td>True</td>\n",
       "      <td>Aerimae</td>\n",
       "      <td>...</td>\n",
       "      <td>NaN</td>\n",
       "      <td>NaN</td>\n",
       "      <td>NaN</td>\n",
       "      <td>NaN</td>\n",
       "      <td>NaN</td>\n",
       "      <td>NaN</td>\n",
       "      <td>NaN</td>\n",
       "      <td>NaN</td>\n",
       "      <td>NaN</td>\n",
       "      <td>archive</td>\n",
       "    </tr>\n",
       "    <tr>\n",
       "      <th>4</th>\n",
       "      <td>NaN</td>\n",
       "      <td>http://www.reddit.com/r/PhotoshopRequest/comme...</td>\n",
       "      <td>NaN</td>\n",
       "      <td>10ev4t</td>\n",
       "      <td>1.348521e+09</td>\n",
       "      <td>NaN</td>\n",
       "      <td>I need to make a joke Birthday present for a f...</td>\n",
       "      <td>NaN</td>\n",
       "      <td>True</td>\n",
       "      <td>[deleted]</td>\n",
       "      <td>...</td>\n",
       "      <td>NaN</td>\n",
       "      <td>NaN</td>\n",
       "      <td>NaN</td>\n",
       "      <td>NaN</td>\n",
       "      <td>NaN</td>\n",
       "      <td>NaN</td>\n",
       "      <td>NaN</td>\n",
       "      <td>NaN</td>\n",
       "      <td>NaN</td>\n",
       "      <td>archive</td>\n",
       "    </tr>\n",
       "    <tr>\n",
       "      <th>...</th>\n",
       "      <td>...</td>\n",
       "      <td>...</td>\n",
       "      <td>...</td>\n",
       "      <td>...</td>\n",
       "      <td>...</td>\n",
       "      <td>...</td>\n",
       "      <td>...</td>\n",
       "      <td>...</td>\n",
       "      <td>...</td>\n",
       "      <td>...</td>\n",
       "      <td>...</td>\n",
       "      <td>...</td>\n",
       "      <td>...</td>\n",
       "      <td>...</td>\n",
       "      <td>...</td>\n",
       "      <td>...</td>\n",
       "      <td>...</td>\n",
       "      <td>...</td>\n",
       "      <td>...</td>\n",
       "      <td>...</td>\n",
       "      <td>...</td>\n",
       "    </tr>\n",
       "    <tr>\n",
       "      <th>550590</th>\n",
       "      <td>Free :snoo:</td>\n",
       "      <td>https://www.reddit.com/gallery/1jynipv</td>\n",
       "      <td>free</td>\n",
       "      <td>1jynipv</td>\n",
       "      <td>1.744595e+09</td>\n",
       "      <td>t3_1jynipv</td>\n",
       "      <td>Car colors</td>\n",
       "      <td>None</td>\n",
       "      <td>False</td>\n",
       "      <td>Cheese1324</td>\n",
       "      <td>...</td>\n",
       "      <td>1558745.0</td>\n",
       "      <td>NaN</td>\n",
       "      <td>t2_59obl1uy</td>\n",
       "      <td>1.0</td>\n",
       "      <td>0.0</td>\n",
       "      <td>None</td>\n",
       "      <td>False</td>\n",
       "      <td>1.0</td>\n",
       "      <td>https://www.reddit.com/gallery/1jynipv</td>\n",
       "      <td>api</td>\n",
       "    </tr>\n",
       "    <tr>\n",
       "      <th>550591</th>\n",
       "      <td>Paid :redditgold:</td>\n",
       "      <td>https://i.redd.it/zhr3j8gl8pue1.jpeg</td>\n",
       "      <td>paid</td>\n",
       "      <td>1jymrja</td>\n",
       "      <td>1.744592e+09</td>\n",
       "      <td>t3_1jymrja</td>\n",
       "      <td>Help making some changes to a t-shirt design</td>\n",
       "      <td>None</td>\n",
       "      <td>False</td>\n",
       "      <td>Passessor</td>\n",
       "      <td>...</td>\n",
       "      <td>1558745.0</td>\n",
       "      <td>NaN</td>\n",
       "      <td>t2_16co3c</td>\n",
       "      <td>1.0</td>\n",
       "      <td>0.0</td>\n",
       "      <td>None</td>\n",
       "      <td>True</td>\n",
       "      <td>1.0</td>\n",
       "      <td>https://i.redd.it/zhr3j8gl8pue1.jpeg</td>\n",
       "      <td>api</td>\n",
       "    </tr>\n",
       "    <tr>\n",
       "      <th>550592</th>\n",
       "      <td>Paid :redditgold:</td>\n",
       "      <td>https://www.reddit.com/gallery/1jymegb</td>\n",
       "      <td>paid</td>\n",
       "      <td>1jymegb</td>\n",
       "      <td>1.744591e+09</td>\n",
       "      <td>t3_1jymegb</td>\n",
       "      <td>Can anyone complete and clean up this old and ...</td>\n",
       "      <td>None</td>\n",
       "      <td>False</td>\n",
       "      <td>throwrachacha100</td>\n",
       "      <td>...</td>\n",
       "      <td>1558745.0</td>\n",
       "      <td>NaN</td>\n",
       "      <td>t2_1abxeyx359</td>\n",
       "      <td>1.0</td>\n",
       "      <td>0.0</td>\n",
       "      <td>None</td>\n",
       "      <td>False</td>\n",
       "      <td>1.0</td>\n",
       "      <td>https://www.reddit.com/gallery/1jymegb</td>\n",
       "      <td>api</td>\n",
       "    </tr>\n",
       "    <tr>\n",
       "      <th>550593</th>\n",
       "      <td>Paid :redditgold:</td>\n",
       "      <td>https://i.redd.it/h4cnoiv53pue1.jpeg</td>\n",
       "      <td>None</td>\n",
       "      <td>1jym7l3</td>\n",
       "      <td>1.744591e+09</td>\n",
       "      <td>t3_1jym7l3</td>\n",
       "      <td>Can anyone edit out the guy on the right? Will...</td>\n",
       "      <td>None</td>\n",
       "      <td>False</td>\n",
       "      <td>spectralcanvas</td>\n",
       "      <td>...</td>\n",
       "      <td>1558745.0</td>\n",
       "      <td>NaN</td>\n",
       "      <td>t2_jlvlh33</td>\n",
       "      <td>1.0</td>\n",
       "      <td>0.0</td>\n",
       "      <td>None</td>\n",
       "      <td>False</td>\n",
       "      <td>1.0</td>\n",
       "      <td>https://i.redd.it/h4cnoiv53pue1.jpeg</td>\n",
       "      <td>api</td>\n",
       "    </tr>\n",
       "    <tr>\n",
       "      <th>550594</th>\n",
       "      <td>Solved ✅</td>\n",
       "      <td>https://i.redd.it/w97nmsxd1pue1.jpeg</td>\n",
       "      <td></td>\n",
       "      <td>1jym09b</td>\n",
       "      <td>1.744590e+09</td>\n",
       "      <td>t3_1jym09b</td>\n",
       "      <td>Funeral picture for my grandmother 10$</td>\n",
       "      <td>None</td>\n",
       "      <td>False</td>\n",
       "      <td>gunshot22</td>\n",
       "      <td>...</td>\n",
       "      <td>1558745.0</td>\n",
       "      <td>NaN</td>\n",
       "      <td>t2_oe4ug</td>\n",
       "      <td>1.0</td>\n",
       "      <td>0.0</td>\n",
       "      <td>None</td>\n",
       "      <td>False</td>\n",
       "      <td>1.0</td>\n",
       "      <td>https://i.redd.it/w97nmsxd1pue1.jpeg</td>\n",
       "      <td>api</td>\n",
       "    </tr>\n",
       "  </tbody>\n",
       "</table>\n",
       "<p>550595 rows × 45 columns</p>\n",
       "</div>"
      ],
      "text/plain": [
       "          link_flair_text                                                url  \\\n",
       "0                     NaN  http://www.reddit.com/r/PhotoshopRequest/comme...   \n",
       "1                     NaN  http://www.reddit.com/r/PhotoshopRequest/comme...   \n",
       "2                     NaN  http://www.reddit.com/r/PhotoshopRequest/comme...   \n",
       "3                     NaN  http://www.reddit.com/r/PhotoshopRequest/comme...   \n",
       "4                     NaN  http://www.reddit.com/r/PhotoshopRequest/comme...   \n",
       "...                   ...                                                ...   \n",
       "550590        Free :snoo:             https://www.reddit.com/gallery/1jynipv   \n",
       "550591  Paid :redditgold:               https://i.redd.it/zhr3j8gl8pue1.jpeg   \n",
       "550592  Paid :redditgold:             https://www.reddit.com/gallery/1jymegb   \n",
       "550593  Paid :redditgold:               https://i.redd.it/h4cnoiv53pue1.jpeg   \n",
       "550594           Solved ✅               https://i.redd.it/w97nmsxd1pue1.jpeg   \n",
       "\n",
       "       link_flair_css_class       id   created_utc        name  \\\n",
       "0                       NaN    v9h62  1.340082e+09    t3_v9h62   \n",
       "1                       NaN    v9fi1  1.340080e+09    t3_v9fi1   \n",
       "2                       NaN    x43s2  1.343189e+09    t3_x43s2   \n",
       "3                       NaN   10by6r  1.348378e+09         NaN   \n",
       "4                       NaN   10ev4t  1.348521e+09         NaN   \n",
       "...                     ...      ...           ...         ...   \n",
       "550590                 free  1jynipv  1.744595e+09  t3_1jynipv   \n",
       "550591                 paid  1jymrja  1.744592e+09  t3_1jymrja   \n",
       "550592                 paid  1jymegb  1.744591e+09  t3_1jymegb   \n",
       "550593                 None  1jym7l3  1.744591e+09  t3_1jym7l3   \n",
       "550594                       1jym09b  1.744590e+09  t3_1jym09b   \n",
       "\n",
       "                                                    title author_flair_text  \\\n",
       "0                       Can someone edit this pic for me?               NaN   \n",
       "1                   Can someone edit this picture for me?               NaN   \n",
       "2                                   Need Subreddit Mascot               NaN   \n",
       "3                     Can you create a logo for my brand?               NaN   \n",
       "4       I need to make a joke Birthday present for a f...               NaN   \n",
       "...                                                   ...               ...   \n",
       "550590                                         Car colors              None   \n",
       "550591       Help making some changes to a t-shirt design              None   \n",
       "550592  Can anyone complete and clean up this old and ...              None   \n",
       "550593  Can anyone edit out the guy on the right? Will...              None   \n",
       "550594             Funeral picture for my grandmother 10$              None   \n",
       "\n",
       "        is_self            author  ... subreddit_subscribers  \\\n",
       "0          True  UnknownReddit007  ...                   NaN   \n",
       "1          True         [deleted]  ...                   NaN   \n",
       "2          True       nismomonkey  ...                   NaN   \n",
       "3          True           Aerimae  ...                   NaN   \n",
       "4          True         [deleted]  ...                   NaN   \n",
       "...         ...               ...  ...                   ...   \n",
       "550590    False        Cheese1324  ...             1558745.0   \n",
       "550591    False         Passessor  ...             1558745.0   \n",
       "550592    False  throwrachacha100  ...             1558745.0   \n",
       "550593    False    spectralcanvas  ...             1558745.0   \n",
       "550594    False         gunshot22  ...             1558745.0   \n",
       "\n",
       "       author_created_utc author_fullname is_robot_indexable  \\\n",
       "0                     NaN             NaN                NaN   \n",
       "1                     NaN             NaN                NaN   \n",
       "2                     NaN             NaN                NaN   \n",
       "3                     NaN             NaN                NaN   \n",
       "4                     NaN             NaN                NaN   \n",
       "...                   ...             ...                ...   \n",
       "550590                NaN     t2_59obl1uy                1.0   \n",
       "550591                NaN       t2_16co3c                1.0   \n",
       "550592                NaN   t2_1abxeyx359                1.0   \n",
       "550593                NaN      t2_jlvlh33                1.0   \n",
       "550594                NaN        t2_oe4ug                1.0   \n",
       "\n",
       "        total_awards_received removed_by_category  author_premium  \\\n",
       "0                         NaN                 NaN             NaN   \n",
       "1                         NaN                 NaN             NaN   \n",
       "2                         NaN                 NaN             NaN   \n",
       "3                         NaN                 NaN             NaN   \n",
       "4                         NaN                 NaN             NaN   \n",
       "...                       ...                 ...             ...   \n",
       "550590                    0.0                None           False   \n",
       "550591                    0.0                None            True   \n",
       "550592                    0.0                None           False   \n",
       "550593                    0.0                None           False   \n",
       "550594                    0.0                None           False   \n",
       "\n",
       "        upvote_ratio                  url_overridden_by_dest      src  \n",
       "0                NaN                                     NaN  archive  \n",
       "1                NaN                                     NaN  archive  \n",
       "2                NaN                                     NaN  archive  \n",
       "3                NaN                                     NaN  archive  \n",
       "4                NaN                                     NaN  archive  \n",
       "...              ...                                     ...      ...  \n",
       "550590           1.0  https://www.reddit.com/gallery/1jynipv      api  \n",
       "550591           1.0    https://i.redd.it/zhr3j8gl8pue1.jpeg      api  \n",
       "550592           1.0  https://www.reddit.com/gallery/1jymegb      api  \n",
       "550593           1.0    https://i.redd.it/h4cnoiv53pue1.jpeg      api  \n",
       "550594           1.0    https://i.redd.it/w97nmsxd1pue1.jpeg      api  \n",
       "\n",
       "[550595 rows x 45 columns]"
      ]
     },
     "execution_count": 71,
     "metadata": {},
     "output_type": "execute_result"
    }
   ],
   "source": [
    "full_df = pd.concat([df, praw_df]).reset_index(drop=True)\n",
    "full_df"
   ]
  },
  {
   "cell_type": "code",
   "execution_count": 72,
   "id": "5a474ab2-33ca-4a40-8ec7-997837f92c6d",
   "metadata": {},
   "outputs": [],
   "source": [
    "full_df.to_csv('posts_cleaner_concated.csv')"
   ]
  },
  {
   "cell_type": "markdown",
   "id": "17d8a599-4a02-4e6e-896c-52262bce1772",
   "metadata": {},
   "source": [
    "## **[3]** Проведите разведывательный анализ данных (EDA).\n",
    "## **[4]** Постройте базовые визуализации для основных признаков с учетом разметки данных.\n",
    "\n",
    "Визуализации мне кажутся неотъемлемой частью EDA, поэтому объединяю эти два пункта"
   ]
  },
  {
   "cell_type": "code",
   "execution_count": 73,
   "id": "d952d386-5a14-4ad9-95b9-2a38b3ccb2e9",
   "metadata": {},
   "outputs": [
    {
     "data": {
      "text/html": [
       "<div>\n",
       "<style scoped>\n",
       "    .dataframe tbody tr th:only-of-type {\n",
       "        vertical-align: middle;\n",
       "    }\n",
       "\n",
       "    .dataframe tbody tr th {\n",
       "        vertical-align: top;\n",
       "    }\n",
       "\n",
       "    .dataframe thead th {\n",
       "        text-align: right;\n",
       "    }\n",
       "</style>\n",
       "<table border=\"1\" class=\"dataframe\">\n",
       "  <thead>\n",
       "    <tr style=\"text-align: right;\">\n",
       "      <th></th>\n",
       "      <th>link_flair_text</th>\n",
       "      <th>url</th>\n",
       "      <th>link_flair_css_class</th>\n",
       "      <th>id</th>\n",
       "      <th>created_utc</th>\n",
       "      <th>name</th>\n",
       "      <th>title</th>\n",
       "      <th>author_flair_text</th>\n",
       "      <th>is_self</th>\n",
       "      <th>author</th>\n",
       "      <th>...</th>\n",
       "      <th>subreddit_subscribers</th>\n",
       "      <th>author_created_utc</th>\n",
       "      <th>author_fullname</th>\n",
       "      <th>is_robot_indexable</th>\n",
       "      <th>total_awards_received</th>\n",
       "      <th>removed_by_category</th>\n",
       "      <th>author_premium</th>\n",
       "      <th>upvote_ratio</th>\n",
       "      <th>url_overridden_by_dest</th>\n",
       "      <th>src</th>\n",
       "    </tr>\n",
       "  </thead>\n",
       "  <tbody>\n",
       "  </tbody>\n",
       "</table>\n",
       "<p>0 rows × 45 columns</p>\n",
       "</div>"
      ],
      "text/plain": [
       "Empty DataFrame\n",
       "Columns: [link_flair_text, url, link_flair_css_class, id, created_utc, name, title, author_flair_text, is_self, author, permalink, author_flair_css_class, selftext, domain, num_comments, thumbnail, ups, score, created, over_18, archived, hide_score, post_hint, locked, contest_mode, spoiler, can_gild, is_video, is_crosspostable, num_crossposts, whitelist_status, is_reddit_media_domain, crosspost_parent, no_follow, send_replies, subreddit_subscribers, author_created_utc, author_fullname, is_robot_indexable, total_awards_received, removed_by_category, author_premium, upvote_ratio, url_overridden_by_dest, src]\n",
       "Index: []\n",
       "\n",
       "[0 rows x 45 columns]"
      ]
     },
     "execution_count": 73,
     "metadata": {},
     "output_type": "execute_result"
    }
   ],
   "source": [
    "# сначала отыщем дубликаты\n",
    "full_df[full_df.duplicated()]"
   ]
  },
  {
   "cell_type": "code",
   "execution_count": 74,
   "id": "b3b8c85e-752e-4e0d-824d-f24e2320767d",
   "metadata": {},
   "outputs": [
    {
     "data": {
      "text/html": [
       "<div>\n",
       "<style scoped>\n",
       "    .dataframe tbody tr th:only-of-type {\n",
       "        vertical-align: middle;\n",
       "    }\n",
       "\n",
       "    .dataframe tbody tr th {\n",
       "        vertical-align: top;\n",
       "    }\n",
       "\n",
       "    .dataframe thead th {\n",
       "        text-align: right;\n",
       "    }\n",
       "</style>\n",
       "<table border=\"1\" class=\"dataframe\">\n",
       "  <thead>\n",
       "    <tr style=\"text-align: right;\">\n",
       "      <th></th>\n",
       "      <th>link_flair_text</th>\n",
       "      <th>url</th>\n",
       "      <th>link_flair_css_class</th>\n",
       "      <th>id</th>\n",
       "      <th>created_utc</th>\n",
       "      <th>name</th>\n",
       "      <th>title</th>\n",
       "      <th>author_flair_text</th>\n",
       "      <th>is_self</th>\n",
       "      <th>author</th>\n",
       "      <th>...</th>\n",
       "      <th>subreddit_subscribers</th>\n",
       "      <th>author_created_utc</th>\n",
       "      <th>author_fullname</th>\n",
       "      <th>is_robot_indexable</th>\n",
       "      <th>total_awards_received</th>\n",
       "      <th>removed_by_category</th>\n",
       "      <th>author_premium</th>\n",
       "      <th>upvote_ratio</th>\n",
       "      <th>url_overridden_by_dest</th>\n",
       "      <th>src</th>\n",
       "    </tr>\n",
       "  </thead>\n",
       "  <tbody>\n",
       "  </tbody>\n",
       "</table>\n",
       "<p>0 rows × 45 columns</p>\n",
       "</div>"
      ],
      "text/plain": [
       "Empty DataFrame\n",
       "Columns: [link_flair_text, url, link_flair_css_class, id, created_utc, name, title, author_flair_text, is_self, author, permalink, author_flair_css_class, selftext, domain, num_comments, thumbnail, ups, score, created, over_18, archived, hide_score, post_hint, locked, contest_mode, spoiler, can_gild, is_video, is_crosspostable, num_crossposts, whitelist_status, is_reddit_media_domain, crosspost_parent, no_follow, send_replies, subreddit_subscribers, author_created_utc, author_fullname, is_robot_indexable, total_awards_received, removed_by_category, author_premium, upvote_ratio, url_overridden_by_dest, src]\n",
       "Index: []\n",
       "\n",
       "[0 rows x 45 columns]"
      ]
     },
     "execution_count": 74,
     "metadata": {},
     "output_type": "execute_result"
    }
   ],
   "source": [
    "# проверим по уникальным полям\n",
    "full_df[full_df.duplicated(subset=['id'],keep=False)].sort_values(by='id')"
   ]
  },
  {
   "cell_type": "code",
   "execution_count": 77,
   "id": "d1f586e1-0608-4c3d-af91-104eb0dc5d17",
   "metadata": {},
   "outputs": [
    {
     "data": {
      "text/html": [
       "<div>\n",
       "<style scoped>\n",
       "    .dataframe tbody tr th:only-of-type {\n",
       "        vertical-align: middle;\n",
       "    }\n",
       "\n",
       "    .dataframe tbody tr th {\n",
       "        vertical-align: top;\n",
       "    }\n",
       "\n",
       "    .dataframe thead th {\n",
       "        text-align: right;\n",
       "    }\n",
       "</style>\n",
       "<table border=\"1\" class=\"dataframe\">\n",
       "  <thead>\n",
       "    <tr style=\"text-align: right;\">\n",
       "      <th></th>\n",
       "      <th>link_flair_text</th>\n",
       "      <th>url</th>\n",
       "      <th>link_flair_css_class</th>\n",
       "      <th>id</th>\n",
       "      <th>created_utc</th>\n",
       "      <th>name</th>\n",
       "      <th>title</th>\n",
       "      <th>author_flair_text</th>\n",
       "      <th>is_self</th>\n",
       "      <th>author</th>\n",
       "      <th>...</th>\n",
       "      <th>subreddit_subscribers</th>\n",
       "      <th>author_created_utc</th>\n",
       "      <th>author_fullname</th>\n",
       "      <th>is_robot_indexable</th>\n",
       "      <th>total_awards_received</th>\n",
       "      <th>removed_by_category</th>\n",
       "      <th>author_premium</th>\n",
       "      <th>upvote_ratio</th>\n",
       "      <th>url_overridden_by_dest</th>\n",
       "      <th>src</th>\n",
       "    </tr>\n",
       "  </thead>\n",
       "  <tbody>\n",
       "  </tbody>\n",
       "</table>\n",
       "<p>0 rows × 45 columns</p>\n",
       "</div>"
      ],
      "text/plain": [
       "Empty DataFrame\n",
       "Columns: [link_flair_text, url, link_flair_css_class, id, created_utc, name, title, author_flair_text, is_self, author, permalink, author_flair_css_class, selftext, domain, num_comments, thumbnail, ups, score, created, over_18, archived, hide_score, post_hint, locked, contest_mode, spoiler, can_gild, is_video, is_crosspostable, num_crossposts, whitelist_status, is_reddit_media_domain, crosspost_parent, no_follow, send_replies, subreddit_subscribers, author_created_utc, author_fullname, is_robot_indexable, total_awards_received, removed_by_category, author_premium, upvote_ratio, url_overridden_by_dest, src]\n",
       "Index: []\n",
       "\n",
       "[0 rows x 45 columns]"
      ]
     },
     "execution_count": 77,
     "metadata": {},
     "output_type": "execute_result"
    }
   ],
   "source": [
    "# проверим по уникальным полям\n",
    "full_df[~full_df['name'].isna() & full_df.duplicated(subset=['name'],keep=False)].sort_values(by='name')"
   ]
  },
  {
   "cell_type": "code",
   "execution_count": 83,
   "id": "fea8c062-7c51-43c5-8632-c7941de56261",
   "metadata": {},
   "outputs": [
    {
     "name": "stdout",
     "output_type": "stream",
     "text": [
      "<class 'pandas.core.frame.DataFrame'>\n",
      "RangeIndex: 550595 entries, 0 to 550594\n",
      "Data columns (total 45 columns):\n",
      " #   Column                  Non-Null Count   Dtype  \n",
      "---  ------                  --------------   -----  \n",
      " 0   link_flair_text         383465 non-null  object \n",
      " 1   url                     536111 non-null  object \n",
      " 2   link_flair_css_class    331417 non-null  object \n",
      " 3   id                      550595 non-null  object \n",
      " 4   created_utc             550595 non-null  float64\n",
      " 5   name                    396777 non-null  object \n",
      " 6   title                   550595 non-null  object \n",
      " 7   author_flair_text       5106 non-null    object \n",
      " 8   is_self                 550595 non-null  bool   \n",
      " 9   author                  550585 non-null  object \n",
      " 10  permalink               550595 non-null  object \n",
      " 11  author_flair_css_class  820 non-null     object \n",
      " 12  selftext                245727 non-null  object \n",
      " 13  domain                  536085 non-null  object \n",
      " 14  num_comments            550595 non-null  int64  \n",
      " 15  thumbnail               550595 non-null  object \n",
      " 16  ups                     291768 non-null  float64\n",
      " 17  score                   550595 non-null  int64  \n",
      " 18  created                 242433 non-null  float64\n",
      " 19  over_18                 550595 non-null  bool   \n",
      " 20  archived                548303 non-null  float64\n",
      " 21  hide_score              471920 non-null  float64\n",
      " 22  post_hint               306426 non-null  object \n",
      " 23  locked                  512336 non-null  float64\n",
      " 24  contest_mode            471231 non-null  float64\n",
      " 25  spoiler                 467538 non-null  float64\n",
      " 26  can_gild                399584 non-null  float64\n",
      " 27  is_video                438490 non-null  float64\n",
      " 28  is_crosspostable        425620 non-null  float64\n",
      " 29  num_crossposts          425620 non-null  float64\n",
      " 30  whitelist_status        390092 non-null  object \n",
      " 31  is_reddit_media_domain  421037 non-null  float64\n",
      " 32  crosspost_parent        1124 non-null    object \n",
      " 33  no_follow               398829 non-null  float64\n",
      " 34  send_replies            398829 non-null  float64\n",
      " 35  subreddit_subscribers   395400 non-null  float64\n",
      " 36  author_created_utc      109437 non-null  float64\n",
      " 37  author_fullname         296637 non-null  object \n",
      " 38  is_robot_indexable      372804 non-null  float64\n",
      " 39  total_awards_received   351754 non-null  float64\n",
      " 40  removed_by_category     110457 non-null  object \n",
      " 41  author_premium          263720 non-null  object \n",
      " 42  upvote_ratio            296180 non-null  float64\n",
      " 43  url_overridden_by_dest  255306 non-null  object \n",
      " 44  src                     550595 non-null  object \n",
      "dtypes: bool(2), float64(20), int64(2), object(21)\n",
      "memory usage: 181.7+ MB\n"
     ]
    }
   ],
   "source": [
    "# посмотрим типы фичей\n",
    "full_df.info()"
   ]
  },
  {
   "cell_type": "markdown",
   "id": "b3007652-0515-468c-aeaa-f5230f96a3b4",
   "metadata": {},
   "source": [
    "#### **link_flair_text, link_flair_css_class**"
   ]
  },
  {
   "cell_type": "code",
   "execution_count": 91,
   "id": "e665dade-075a-422e-80b3-487b283a2b0d",
   "metadata": {},
   "outputs": [
    {
     "data": {
      "text/plain": [
       "link_flair_text\n",
       "Paid :redditgold:                105954\n",
       "Serious :snoo:                    86865\n",
       "Free :snoo:                       53965\n",
       "SOLVED                            42932\n",
       "Funny :snoo_joy:                  29550\n",
       "Serious (Solved) :snoo:           18525\n",
       "SOLVED                            12489\n",
       "UNSOLVED                          11390\n",
       "Solved ✅                          10292\n",
       "Paid (Solved) :redditgold:         6708\n",
       "Funny (Solved) :snoo_joy:          4464\n",
       "  Abandoned ☠️                      231\n",
       "Unsolved  :snoo_facepalm:            56\n",
       "Solved :snoo_smile:                  12\n",
       "Question :snoo_thoughtful:           11\n",
       "Paid (Solved) :redditgold:            6\n",
       "Paid                                  5\n",
       "Mod Announcement :king:               2\n",
       ":snoo_smile: Solved                   1\n",
       ":snoo_thoughtful: Question            1\n",
       ":snoo: Serious                        1\n",
       "Mod Announcement :king:               1\n",
       "Serious                               1\n",
       "Paid (Solved) :snoo_smile:            1\n",
       "Serious (Solved) :snoo_smile:         1\n",
       ":snoo: Solved                         1\n",
       "Name: count, dtype: int64"
      ]
     },
     "execution_count": 91,
     "metadata": {},
     "output_type": "execute_result"
    }
   ],
   "source": [
    "flair1 = full_df['link_flair_text'].value_counts()\n",
    "flair1"
   ]
  },
  {
   "cell_type": "code",
   "execution_count": 92,
   "id": "8c6f0e11-e071-46ef-a2d6-c5f46cfeb904",
   "metadata": {},
   "outputs": [
    {
     "data": {
      "text/plain": [
       "link_flair_css_class\n",
       "paid             95179\n",
       "serious          87742\n",
       "free             54557\n",
       "solved           42864\n",
       "funny            29723\n",
       "unsolved         11390\n",
       "solvedrequest     8800\n",
       "                  1151\n",
       "question            11\n",
       "Name: count, dtype: int64"
      ]
     },
     "execution_count": 92,
     "metadata": {},
     "output_type": "execute_result"
    }
   ],
   "source": [
    "flair2 = full_df['link_flair_css_class'].value_counts()\n",
    "flair2"
   ]
  },
  {
   "cell_type": "markdown",
   "id": "78190c1a-75e0-49d4-a457-0e1fa9a79e53",
   "metadata": {},
   "source": [
    "Оба признака про одно и то же: *тип поста*\n",
    "\n",
    "В данном сабреддите: \n",
    "- можно попросить бесплатную услугу (free),\n",
    "- можно предложить плату за лучшее решение (paid),\n",
    "- выполненные задачи помечаются (solved),\n",
    "- также раньше были тэги серьезности (serious, funny)\n",
    "\n",
    "`link_flair_text` более грязный, там собрались все форматы типов поста за долгие годы.\n",
    "\n",
    "Можно использовать эту фичу для удаления мусорных сэмплов (question, announcement), а на будущее оставить только `link_flair_css_class`"
   ]
  },
  {
   "cell_type": "code",
   "execution_count": 105,
   "id": "c3759802-92cd-4ad1-9bb3-a74f5927463f",
   "metadata": {},
   "outputs": [
    {
     "data": {
      "text/plain": [
       "Index(['  Abandoned ☠️', 'Unsolved  :snoo_facepalm:', 'Solved :snoo_smile:',\n",
       "       'Question :snoo_thoughtful:', 'Paid (Solved) :redditgold:', 'Paid',\n",
       "       'Mod Announcement :king: ', ':snoo_smile: Solved',\n",
       "       ':snoo_thoughtful: Question', ':snoo: Serious',\n",
       "       'Mod Announcement :king:', 'Serious', 'Paid (Solved) :snoo_smile:',\n",
       "       'Serious (Solved) :snoo_smile:', ':snoo: Solved'],\n",
       "      dtype='object', name='link_flair_text')"
      ]
     },
     "execution_count": 105,
     "metadata": {},
     "output_type": "execute_result"
    }
   ],
   "source": [
    "# выбираем мусорные категории\n",
    "to_drop = flair1[flair1 <= 231].index\n",
    "to_drop"
   ]
  },
  {
   "cell_type": "code",
   "execution_count": 110,
   "id": "1ec19e60-eb8f-4d92-bfbe-6db1ed934dc0",
   "metadata": {},
   "outputs": [],
   "source": [
    "# удаляем мусор\n",
    "full_df.drop(index=full_df[full_df['link_flair_text'].isin(to_drop)].index, inplace=True)"
   ]
  },
  {
   "cell_type": "code",
   "execution_count": 127,
   "id": "b5aefbd9-e3d3-4535-a8e2-e179f3634c92",
   "metadata": {},
   "outputs": [
    {
     "data": {
      "text/plain": [
       "<Axes: xlabel='link_flair_css_class', ylabel='Count'>"
      ]
     },
     "execution_count": 127,
     "metadata": {},
     "output_type": "execute_result"
    },
    {
     "data": {
      "image/png": "[encoded data removed]",
      "text/plain": [
       "<Figure size 1200x1000 with 1 Axes>"
      ]
     },
     "metadata": {},
     "output_type": "display_data"
    }
   ],
   "source": [
    "plt.figure(figsize=(12, 10))\n",
    "sns.histplot(x=full_df['link_flair_css_class'], hue=full_df['src'])"
   ]
  },
  {
   "cell_type": "markdown",
   "id": "ab1a5a00-f2c7-48bc-9761-99c8c138b6e1",
   "metadata": {},
   "source": [
    "Непонятная категория пустая, причём только у API-данных но заполнение пропусков - задача на PW2, так что решу её в следующей домашке"
   ]
  },
  {
   "cell_type": "markdown",
   "id": "68a53473-ebd9-4c3b-803b-e6aec87bbb95",
   "metadata": {
    "jp-MarkdownHeadingCollapsed": true
   },
   "source": [
    "#### id, name, permalink\n",
    "---\n",
    "Это разные уникальные идентификаторы поста. Дубликатов нет.\n",
    "Пропуски есть в `name` и `permalink`, но в `id` - ключевой, важнейший идентификатор - пропусков нет.\n",
    "\n",
    "`name` и `permalink` скорее всего не нужны, но оставим на всякий."
   ]
  },
  {
   "cell_type": "markdown",
   "id": "ccaa120b-0c18-44f5-b3ca-39cef816fdf3",
   "metadata": {},
   "source": [
    "#### 'author', 'author_fullname', 'author_premium', 'author_flair_text', 'author_flair_css_class'\n",
    "---\n",
    "Всякая информация об авторе поста\n",
    "> здесь нигде нет ФИО, личных данных и прочей конфиденциальной информации об авторе - так что эти данные уже можно считать обезличенными"
   ]
  },
  {
   "cell_type": "code",
   "execution_count": 139,
   "id": "2bb80751-2f54-4ea8-a979-b14f61d6393e",
   "metadata": {},
   "outputs": [
    {
     "data": {
      "text/plain": [
       "author\n",
       "[deleted]              140004\n",
       "RealJohnGillman           244\n",
       "Randomreddituser1o1       176\n",
       "Physical-Egg-666          170\n",
       "CoolClark                 132\n",
       "                        ...  \n",
       "burnburnaway                1\n",
       "reekofsensation             1\n",
       "DepressdTgirl2020           1\n",
       "thattherebluedress          1\n",
       "gunshot22                   1\n",
       "Name: count, Length: 256716, dtype: int64"
      ]
     },
     "execution_count": 139,
     "metadata": {},
     "output_type": "execute_result"
    }
   ],
   "source": [
    "# как видим, много авторов удалили аккаунты за все эти годы\n",
    "authors = full_df['author'].value_counts()\n",
    "authors"
   ]
  },
  {
   "cell_type": "code",
   "execution_count": 143,
   "id": "928d93c3-362b-4065-9cc8-3e41474763ee",
   "metadata": {},
   "outputs": [
    {
     "data": {
      "text/plain": [
       "<Axes: xlabel='author'>"
      ]
     },
     "execution_count": 143,
     "metadata": {},
     "output_type": "execute_result"
    },
    {
     "data": {
      "image/png": "[encoded data removed]",
      "text/plain": [
       "<Figure size 1200x1000 with 1 Axes>"
      ]
     },
     "metadata": {},
     "output_type": "display_data"
    }
   ],
   "source": [
    "plt.figure(figsize=(12, 10))\n",
    "authors[(authors > 1) & (authors < 140004)].plot()"
   ]
  },
  {
   "cell_type": "markdown",
   "id": "8d39218f-3cd0-4517-aec8-b1aab16e886c",
   "metadata": {},
   "source": [
    "Распределение вполне естественное.\n",
    "\n",
    "Очень мало активных пользователей, очень много пользователей на 1-10 запросов.\n",
    "Интересно посмотреть, зачем некоторые постят так много запросов"
   ]
  },
  {
   "cell_type": "code",
   "execution_count": 148,
   "id": "88eaa338-d2ae-499d-b8e3-7f0af7563ace",
   "metadata": {},
   "outputs": [
    {
     "data": {
      "text/plain": [
       "['Would someone possibly be able to un-blur / make clearer the top right-corner of this Joker image by any chance (or make it so that where the clearness ends does not look like a line across it at the triangle point and edges of the head and hair)? Thank you.',\n",
       " \"[Random] Could someone isolate the right image here on its own if they're able? Thank you.\",\n",
       " '[Specific] Could you please mirror-flip this image, turn the red a darker red, remove the number 25 and brown side from the right-hand-side, replacing the words POWELL &amp; HYDE Sts and UNITED RAILROADS with THE ETHICS EXPRESS (after having mirror-flipped it) in the font Ortem (linked below) Thank you.',\n",
       " 'Could someone have this tattoo on its own mirroring both sides? Thank you.',\n",
       " '[Specific] Can someone replace the blurred Rick and Morty logo with the one below, reduced to the same size in the same place? Thank you.',\n",
       " 'Could someone change this figure to resemble the below one? Thank you.',\n",
       " 'Could someone change this sign to read “Violence. Many, many violence.”, split line-by-line centred in the same font? Thank you.',\n",
       " 'Could someone please turn this hair a dark grey, retaining the shine?',\n",
       " 'Could someone edit this logo solely to be of the logo itself against the background given? Thank you.',\n",
       " 'Could someone please replace the below words (specified, see comment), retaining the same font? Thank you.']"
      ]
     },
     "execution_count": 148,
     "metadata": {},
     "output_type": "execute_result"
    }
   ],
   "source": [
    "list(full_df[full_df['author'] == 'RealJohnGillman'].sample(10)['title'])"
   ]
  },
  {
   "cell_type": "markdown",
   "id": "ed867293-2fd2-432e-9e3d-5d650815f525",
   "metadata": {},
   "source": [
    "Видимо, кому-то по работе постоянно были нужны услуги фотошопа)"
   ]
  },
  {
   "cell_type": "code",
   "execution_count": 155,
   "id": "22628867-cd3d-49f0-8e59-e7dba7b3f9de",
   "metadata": {},
   "outputs": [
    {
     "data": {
      "text/plain": [
       "author_fullname\n",
       "t2_iccpg6gd     177\n",
       "t2_cptghui41    170\n",
       "t2_b6fu6l4      137\n",
       "t2_fqi2arp      132\n",
       "t2_5kjq18q5     128\n",
       "               ... \n",
       "t2_kw6b54ss       1\n",
       "t2_d2vbg          1\n",
       "t2_x1ca0          1\n",
       "t2_lgmdwqz4       1\n",
       "t2_oe4ug          1\n",
       "Name: count, Length: 191834, dtype: int64"
      ]
     },
     "execution_count": 155,
     "metadata": {},
     "output_type": "execute_result"
    }
   ],
   "source": [
    "# id автора, столбец ненужный + много пропусков\n",
    "full_df['author_fullname'].value_counts()"
   ]
  },
  {
   "cell_type": "code",
   "execution_count": 154,
   "id": "ba64dfba-00d9-47db-b894-b5a3225b1c0f",
   "metadata": {},
   "outputs": [
    {
     "data": {
      "text/plain": [
       "author_premium\n",
       "0.0    260058\n",
       "1.0      3365\n",
       "Name: count, dtype: int64"
      ]
     },
     "execution_count": 154,
     "metadata": {},
     "output_type": "execute_result"
    }
   ],
   "source": [
    "# есть ли у автора reddit-premium, может быть интересно, но много пропусков\n",
    "full_df['author_premium'].value_counts()"
   ]
  },
  {
   "cell_type": "markdown",
   "id": "6cfef324-fc21-40a2-a5d2-acb790eb64bf",
   "metadata": {},
   "source": [
    "`author_flair` - это значки авторов, очень много пропусков и не особо нужны"
   ]
  },
  {
   "cell_type": "code",
   "execution_count": 165,
   "id": "c6a7d6d0-d630-4da0-af62-4a870fad27a9",
   "metadata": {
    "scrolled": true
   },
   "outputs": [
    {
     "data": {
      "text/plain": [
       "author_flair_text\n",
       "Requester :snoo:            3449\n",
       "Wizard :wand:                734\n",
       "+0                           289\n",
       "+1                           173\n",
       "Score (comment anywhere)      88\n",
       "Wizard :baguette:             78\n",
       "+2                            60\n",
       "+3                            40\n",
       "+4                            33\n",
       "+9                            24\n",
       "+5                            22\n",
       "Wizard                        18\n",
       "+7                            15\n",
       "Moderator                     14\n",
       "+6                             9\n",
       "+8                             8\n",
       "+16                            5\n",
       "+54                            4\n",
       "Trusted Wizard :wiz:           4\n",
       "+10                            3\n",
       "+11                            3\n",
       "+13                            3\n",
       "+42                            2\n",
       "+29                            2\n",
       "+60                            2\n",
       "+41                            2\n",
       "Wizard :wand::wand:            2\n",
       "+23                            2\n",
       "+43                            2\n",
       "+37                            2\n",
       "+28                            2\n",
       "+26                            1\n",
       "+33                            1\n",
       "+17                            1\n",
       "+47                            1\n",
       "+19                            1\n",
       "+116                           1\n",
       "+21                            1\n",
       "+102                           1\n",
       "+96                            1\n",
       "+12                            1\n",
       "+36                            1\n",
       "Name: count, dtype: int64"
      ]
     },
     "execution_count": 165,
     "metadata": {},
     "output_type": "execute_result"
    }
   ],
   "source": [
    "full_df['author_flair_text'].value_counts()"
   ]
  },
  {
   "cell_type": "code",
   "execution_count": 166,
   "id": "3003928e-149c-4d97-9d41-cc0ab345ec3f",
   "metadata": {},
   "outputs": [
    {
     "data": {
      "text/plain": [
       "author_flair_css_class\n",
       "score-t1    522\n",
       "score-t2    151\n",
       "reset        88\n",
       "score-t3     25\n",
       "score-t4     20\n",
       "mod          10\n",
       "flair2        4\n",
       "Name: count, dtype: int64"
      ]
     },
     "execution_count": 166,
     "metadata": {},
     "output_type": "execute_result"
    }
   ],
   "source": [
    "full_df['author_flair_css_class'].value_counts()"
   ]
  },
  {
   "cell_type": "code",
   "execution_count": 168,
   "id": "340acc79-b067-439b-a9b5-ad8686fd830d",
   "metadata": {},
   "outputs": [],
   "source": [
    "# но благодаря им можно удалить посты модераторов\n",
    "full_df.drop(\n",
    "    index=full_df[full_df['author_flair_text'] == 'Moderator'].index, inplace=True\n",
    ")\n",
    "full_df.drop(\n",
    "    index=full_df[full_df['author_flair_css_class'] == 'mod'].index, inplace=True\n",
    ")\n",
    "full_df.reset_index(inplace=True, drop=True)"
   ]
  },
  {
   "cell_type": "markdown",
   "id": "e46e505c-0a99-47c6-a016-2ec848dc67de",
   "metadata": {},
   "source": [
    "#### временнЫе аттрибуты поста\n",
    "---"
   ]
  },
  {
   "cell_type": "code",
   "execution_count": 193,
   "id": "645153f5-bbb1-4846-954b-31539c708b65",
   "metadata": {},
   "outputs": [
    {
     "data": {
      "text/plain": [
       "<Axes: >"
      ]
     },
     "execution_count": 193,
     "metadata": {},
     "output_type": "execute_result"
    },
    {
     "data": {
      "image/png": "[encoded data removed]",
      "text/plain": [
       "<Figure size 640x480 with 1 Axes>"
      ]
     },
     "metadata": {},
     "output_type": "display_data"
    }
   ],
   "source": [
    "# UTC-время создания поста\n",
    "full_df['created_utc'].plot()"
   ]
  },
  {
   "cell_type": "markdown",
   "id": "966b1ad7-837f-4bad-80f9-e583e8d976df",
   "metadata": {},
   "source": [
    "(мешанина в конце - это API-датасет, я его не отсортировал по дате создания постов)\n",
    "\n",
    "Видно, что пару лет назад интенсивность постинга возросла в разы.\n",
    "\n",
    "Наверное, это связанно с появлением inpaint-нейросетей -> люди быстрее стали получать запрашиваемые фотошопы -> стало больше смысла постить новые запросы."
   ]
  },
  {
   "cell_type": "code",
   "execution_count": 194,
   "id": "042a9a8d-4a36-4168-9824-650f917021d6",
   "metadata": {},
   "outputs": [
    {
     "data": {
      "text/plain": [
       "<Axes: >"
      ]
     },
     "execution_count": 194,
     "metadata": {},
     "output_type": "execute_result"
    },
    {
     "data": {
      "image/png": "[encoded data removed]",
      "text/plain": [
       "<Figure size 640x480 with 1 Axes>"
      ]
     },
     "metadata": {},
     "output_type": "display_data"
    }
   ],
   "source": [
    "# число подписчиков в момент создания поста\n",
    "full_df['subreddit_subscribers'].plot()"
   ]
  },
  {
   "cell_type": "markdown",
   "id": "b68366c8-632c-48ed-992d-2730e742e9d5",
   "metadata": {},
   "source": [
    "Фича просто интересная, никакой ценности не представляет"
   ]
  },
  {
   "cell_type": "markdown",
   "id": "3288b8cc-a455-4b5c-90d6-f3abeca6c490",
   "metadata": {},
   "source": [
    "#### тип поста / контента поста\n",
    "---"
   ]
  },
  {
   "cell_type": "code",
   "execution_count": 177,
   "id": "a4fb2716-9de3-4af5-99b5-c00438624e96",
   "metadata": {},
   "outputs": [
    {
     "data": {
      "text/plain": [
       "domain\n",
       "i.redd.it                       350171\n",
       "self.PhotoshopRequest            80743\n",
       "imgur.com                        51007\n",
       "i.imgur.com                      24148\n",
       "i.reddituploads.com               6883\n",
       "                                 ...  \n",
       "public.lightpic.info                 1\n",
       "scontent-mrs1-1.xx.fbcdn.net         1\n",
       "natureimage.xyz                      1\n",
       "scarecrowboat.com                    1\n",
       "poderpal.blogspot.com                1\n",
       "Name: count, Length: 5012, dtype: int64"
      ]
     },
     "execution_count": 177,
     "metadata": {},
     "output_type": "execute_result"
    }
   ],
   "source": [
    "# domain - домен, где лежит прикреплённый к посту материал (н., картинка)\n",
    "# может быть полезен в будущем, для извлечения изображений\n",
    "full_df['domain'].value_counts()"
   ]
  },
  {
   "cell_type": "markdown",
   "id": "15f3af61-7087-4a56-8d44-ac2da6d14218",
   "metadata": {},
   "source": [
    "Видно, что почти все изображения распределены между двумя доменами:\n",
    "- `reddit` - современный вариант, картинка лежит на сервере reddit\n",
    "- `imgur` - старый вариант, видимо раньше нельзя было прикреплять фото"
   ]
  },
  {
   "cell_type": "code",
   "execution_count": 208,
   "id": "035abfb0-4992-48c2-ace8-a37ac97b0af7",
   "metadata": {},
   "outputs": [
    {
     "data": {
      "text/plain": [
       "is_reddit_media_domain\n",
       "1.0    334604\n",
       "0.0     79110\n",
       "Name: count, dtype: int64"
      ]
     },
     "execution_count": 208,
     "metadata": {},
     "output_type": "execute_result"
    }
   ],
   "source": [
    "# ещё один признак по этому вопросу\n",
    "full_df['is_reddit_media_domain'].value_counts()"
   ]
  },
  {
   "cell_type": "code",
   "execution_count": 184,
   "id": "3260b331-06f5-4cef-a8b7-81451f59884f",
   "metadata": {},
   "outputs": [
    {
     "data": {
      "text/plain": [
       "thumbnail\n",
       "default                                                                            213098\n",
       "self                                                                                39531\n",
       "nsfw                                                                                 3762\n",
       "spoiler                                                                               949\n",
       "http://b.thumbs.redditmedia.com/jL8FQOaugDww6y_wGfgtUM-FLopLI590facpMQxQfeg.jpg        25\n",
       "http://a.thumbs.redditmedia.com/fAgJzE-U-jlgvXfbRRNEE-YDOauOIyUw0KgRNnq7b14.jpg        18\n",
       "Name: count, dtype: int64"
      ]
     },
     "execution_count": 184,
     "metadata": {},
     "output_type": "execute_result"
    }
   ],
   "source": [
    "full_df['thumbnail'].value_counts().head(6)"
   ]
  },
  {
   "cell_type": "code",
   "execution_count": 185,
   "id": "84940cdd-2145-4f87-a3bd-df7f9fe423b5",
   "metadata": {},
   "outputs": [],
   "source": [
    "# эта фича очень полезна для удаления потенциального NSFW\n",
    "full_df.drop(\n",
    "    index=full_df[full_df['thumbnail'].isin(['nsfw', 'spoiler'])].index, inplace=True\n",
    ")\n",
    "full_df.reset_index(inplace=True, drop=True)"
   ]
  },
  {
   "cell_type": "code",
   "execution_count": 188,
   "id": "6b3aa41c-f7e5-4d3b-8a4c-996fe2822bf8",
   "metadata": {},
   "outputs": [],
   "source": [
    "# для этих же целей есть пара других фичей\n",
    "full_df.drop(\n",
    "    index=full_df[full_df['over_18'] == True].index, inplace=True\n",
    ")\n",
    "full_df.drop(\n",
    "    index=full_df[full_df['spoiler'] == 1.0].index, inplace=True\n",
    ")\n",
    "full_df.reset_index(inplace=True, drop=True)"
   ]
  },
  {
   "cell_type": "code",
   "execution_count": 210,
   "id": "5617ded2-2061-43ae-a101-66c8107a9df8",
   "metadata": {},
   "outputs": [],
   "source": [
    "# и ещё одна\n",
    "full_df.drop(\n",
    "    index=full_df[full_df['whitelist_status'] == 'promo_adult_nsfw'].index, inplace=True\n",
    ")\n",
    "full_df.reset_index(inplace=True, drop=True)"
   ]
  },
  {
   "cell_type": "code",
   "execution_count": 222,
   "id": "26c5a40e-12d6-4a18-99ad-676fdf0e4fc1",
   "metadata": {},
   "outputs": [],
   "source": [
    "# и ещё одна\n",
    "full_df.drop(\n",
    "    index=full_df[full_df['removed_by_category'] == 'content_takedown'].index, inplace=True\n",
    ")\n",
    "full_df.reset_index(inplace=True, drop=True)"
   ]
  },
  {
   "cell_type": "code",
   "execution_count": 198,
   "id": "0e831cab-fc1c-4160-9354-5eda881b806a",
   "metadata": {},
   "outputs": [
    {
     "data": {
      "text/plain": [
       "post_hint\n",
       "image           258688\n",
       "link             29007\n",
       "self             14508\n",
       "rich:video         208\n",
       "hosted:video       119\n",
       "video               10\n",
       "Name: count, dtype: int64"
      ]
     },
     "execution_count": 198,
     "metadata": {},
     "output_type": "execute_result"
    }
   ],
   "source": [
    "# эта фича очень полезна для выявления типа поста\n",
    "full_df['post_hint'].value_counts()"
   ]
  },
  {
   "cell_type": "code",
   "execution_count": 200,
   "id": "ceac2828-5f0f-4b69-bcc0-07675d28eb6c",
   "metadata": {},
   "outputs": [],
   "source": [
    "# удалим все посты типа \"видео\", мы целимся только в редактирование картинок\n",
    "full_df.drop(\n",
    "    index=full_df[full_df['post_hint'].isin(\n",
    "        ['rich:video', 'hosted:video', 'video']\n",
    "    )].index, inplace=True\n",
    ")\n",
    "full_df.reset_index(inplace=True, drop=True)"
   ]
  },
  {
   "cell_type": "code",
   "execution_count": 203,
   "id": "b9ee6dce-866f-439b-a510-f0ffa2703edc",
   "metadata": {},
   "outputs": [],
   "source": [
    "# аналогичная фича\n",
    "full_df.drop(\n",
    "    index=full_df[full_df['is_video'] == 1.0].index, inplace=True\n",
    ")\n",
    "full_df.reset_index(inplace=True, drop=True)"
   ]
  },
  {
   "cell_type": "code",
   "execution_count": 231,
   "id": "0ed55a42-71bc-4547-b94b-a2f811bfc686",
   "metadata": {},
   "outputs": [
    {
     "data": {
      "text/plain": [
       "url\n",
       "https://i.redd.it/m3b7j7lofa4c1                                                                 20\n",
       "http://google.com                                                                               11\n",
       "http://i.imgur.com/j2JauW1.jpg                                                                   9\n",
       "http://2.bp.blogspot.com/-B7GstsePrgo/UPldSxF1Z_I/AAAAAAAAEZY/TXlGlvEciYo/s1600/2408_001.jpg     9\n",
       "https://ibb.co/ZBY2vVs                                                                           8\n",
       "/r/severnpixels/comments/1gj9q57/creative_photo_editing_competition/                             8\n",
       "https://i.redd.it/s70zevig01h81.jpg                                                              8\n",
       "http://imgur.com/iunQmEq                                                                         7\n",
       "http://imgur.com/a/ObWyK                                                                         7\n",
       "https://www.reddit.com/r/PhotoshopRequest/submit                                                 7\n",
       "Name: count, dtype: int64"
      ]
     },
     "execution_count": 231,
     "metadata": {},
     "output_type": "execute_result"
    }
   ],
   "source": [
    "# url - как правило, ссылка на прикрепленное изображение\n",
    "full_df['url'].value_counts().head(10)\n",
    "# легко отсеять невалидные изображения в будущем"
   ]
  },
  {
   "cell_type": "markdown",
   "id": "b624e470-1a4a-4a91-b23d-230ed70f75c7",
   "metadata": {},
   "source": [
    "#### численные характеристики поста\n",
    "---\n",
    "это довольно важные метрики качества/популярности поста"
   ]
  },
  {
   "cell_type": "code",
   "execution_count": 223,
   "id": "431b1c75-6676-45d7-ae44-a13bd5733326",
   "metadata": {},
   "outputs": [
    {
     "data": {
      "text/plain": [
       "<Axes: ylabel='num_comments'>"
      ]
     },
     "execution_count": 223,
     "metadata": {},
     "output_type": "execute_result"
    },
    {
     "data": {
      "image/png": "[encoded data removed]",
      "text/plain": [
       "<Figure size 1200x1000 with 1 Axes>"
      ]
     },
     "metadata": {},
     "output_type": "display_data"
    }
   ],
   "source": [
    "# число комментариев\n",
    "plt.figure(figsize=(12, 10))\n",
    "sns.lineplot(full_df['num_comments'])"
   ]
  },
  {
   "cell_type": "markdown",
   "id": "9cd6e228-ff0b-43e9-a9aa-6fd1ae5370ac",
   "metadata": {},
   "source": [
    "Опять видно, что пару лет назад активность сильно возрасла"
   ]
  },
  {
   "cell_type": "code",
   "execution_count": 226,
   "id": "25f6b2ac-32f8-4ba3-a045-f475533c918d",
   "metadata": {},
   "outputs": [
    {
     "data": {
      "text/plain": [
       "<Axes: ylabel='ups'>"
      ]
     },
     "execution_count": 226,
     "metadata": {},
     "output_type": "execute_result"
    },
    {
     "data": {
      "image/png": "[encoded data removed]",
      "text/plain": [
       "<Figure size 1200x1000 with 1 Axes>"
      ]
     },
     "metadata": {},
     "output_type": "display_data"
    }
   ],
   "source": [
    "# число апвоутов\n",
    "plt.figure(figsize=(12, 10))\n",
    "sns.lineplot(full_df['ups'])"
   ]
  },
  {
   "cell_type": "code",
   "execution_count": 227,
   "id": "80e2ff69-c802-4372-9875-0bedd5926e53",
   "metadata": {},
   "outputs": [
    {
     "data": {
      "text/plain": [
       "<Axes: ylabel='score'>"
      ]
     },
     "execution_count": 227,
     "metadata": {},
     "output_type": "execute_result"
    },
    {
     "data": {
      "image/png": "[encoded data removed]",
      "text/plain": [
       "<Figure size 1200x1000 with 1 Axes>"
      ]
     },
     "metadata": {},
     "output_type": "display_data"
    }
   ],
   "source": [
    "# скор поста\n",
    "plt.figure(figsize=(12, 10))\n",
    "sns.lineplot(full_df['score'])"
   ]
  },
  {
   "cell_type": "markdown",
   "id": "dc4155a7-eb5e-4168-bba6-f2308b610006",
   "metadata": {},
   "source": [
    "Снова та же картина: раньше паблик был очень нишевым, а пару лет назад начался огромный всплеск активности."
   ]
  },
  {
   "cell_type": "code",
   "execution_count": 230,
   "id": "2e07e538-7ccc-4b6c-b811-8c2bc1abc63b",
   "metadata": {},
   "outputs": [
    {
     "data": {
      "text/plain": [
       "<Axes: xlabel='upvote_ratio', ylabel='count'>"
      ]
     },
     "execution_count": 230,
     "metadata": {},
     "output_type": "execute_result"
    },
    {
     "data": {
      "image/png": "[encoded data removed]",
      "text/plain": [
       "<Figure size 1200x1000 with 1 Axes>"
      ]
     },
     "metadata": {},
     "output_type": "display_data"
    }
   ],
   "source": [
    "# соотношение апвоутов к даунвоутам\n",
    "plt.figure(figsize=(12, 10))\n",
    "sns.lineplot(full_df['upvote_ratio'].value_counts())"
   ]
  },
  {
   "cell_type": "markdown",
   "id": "5d05c890-06c3-4786-8487-36b0c562c6e5",
   "metadata": {},
   "source": [
    "Большинство постов тут одинаковы (наверное, 1 апвоут 0 даунвоутов), но видны \"вспышки\" других типов постов.\n",
    "\n",
    "Для популярных постов характерно иметь некоторую долю даунвоутов, но если апвоутов мало, и соотношение ближе к 0.5, то это веская причина удалить пост."
   ]
  },
  {
   "cell_type": "code",
   "execution_count": 228,
   "id": "4d47e0f4-c01d-4980-a551-0b48458ad9a4",
   "metadata": {},
   "outputs": [
    {
     "data": {
      "text/plain": [
       "<Axes: ylabel='total_awards_received'>"
      ]
     },
     "execution_count": 228,
     "metadata": {},
     "output_type": "execute_result"
    },
    {
     "data": {
      "image/png": "[encoded data removed]",
      "text/plain": [
       "<Figure size 1200x1000 with 1 Axes>"
      ]
     },
     "metadata": {},
     "output_type": "display_data"
    }
   ],
   "source": [
    "# число наград\n",
    "plt.figure(figsize=(12, 10))\n",
    "sns.lineplot(full_df['total_awards_received'])"
   ]
  },
  {
   "cell_type": "markdown",
   "id": "13a1f909-ab64-4973-996a-78943103a9aa",
   "metadata": {},
   "source": [
    "Интересно, похоже эта метрика уже давно не считается?"
   ]
  },
  {
   "cell_type": "markdown",
   "id": "085bfe4d-41dd-42c0-8da9-1569f5b65f3a",
   "metadata": {},
   "source": [
    "#### основное содержимое поста\n",
    "---\n",
    "то, ради чего мы и парсим датасет: тексты запросов\n",
    "Они могут быть в `title`, могут быть в `selftext`, а могу - и там, и там.\n",
    "\n",
    "В будущем хорошим решением будет сконкатенировать эти две фичи в одну."
   ]
  },
  {
   "cell_type": "code",
   "execution_count": 233,
   "id": "6bd93e59-a9be-4e32-887b-63cbbf45da21",
   "metadata": {},
   "outputs": [
    {
     "data": {
      "text/plain": [
       "title\n",
       "[deleted by user]            7253\n",
       "[image processing failed]     918\n",
       "Help                          217\n",
       "Request                       190\n",
       "Photoshop request             187\n",
       "Please help                   146\n",
       "[Specific]                    107\n",
       "Photoshop Request              98\n",
       "Help!                          76\n",
       "Please help!                   67\n",
       "Name: count, dtype: int64"
      ]
     },
     "execution_count": 233,
     "metadata": {},
     "output_type": "execute_result"
    }
   ],
   "source": [
    "full_df['title'].value_counts().head(10)"
   ]
  },
  {
   "cell_type": "code",
   "execution_count": 234,
   "id": "9ac7dde3-056b-44c3-b8f8-b691649b002a",
   "metadata": {},
   "outputs": [
    {
     "data": {
      "text/plain": [
       "selftext\n",
       "[deleted]             112298\n",
       "[removed]              41780\n",
       "                         385\n",
       "Thank you!               119\n",
       "\\n                        80\n",
       "Thank you!                68\n",
       "Thanks!                   68\n",
       "Thanks in advance!        37\n",
       "Thank you                 37\n",
       "Thanks in advance         32\n",
       "Name: count, dtype: int64"
      ]
     },
     "execution_count": 234,
     "metadata": {},
     "output_type": "execute_result"
    }
   ],
   "source": [
    "full_df['selftext'].value_counts().head(10)"
   ]
  },
  {
   "cell_type": "markdown",
   "id": "90e00c96-6f9a-4ad0-a1fc-d5271ff40a15",
   "metadata": {},
   "source": [
    "Интересно увидеть самые распространённые формулировки. Также, комбинация [пустой заголовок] + [пустое тело] - это кандидаты на удаление. Но это уже в следующей домашке..."
   ]
  },
  {
   "cell_type": "markdown",
   "id": "015e33a7-3676-4c6a-bf63-d407159c46c7",
   "metadata": {},
   "source": [
    "### Взаимосвязи"
   ]
  },
  {
   "cell_type": "code",
   "execution_count": 237,
   "id": "cce049ef-26c3-4855-b69b-fed57eadb392",
   "metadata": {},
   "outputs": [],
   "source": [
    "# сначала, удалим все использованные (и теперь ненужные) фичи, \n",
    "# а также изначально ненужные фичи\n",
    "\n",
    "full_df.drop(columns=[\n",
    "    'can_gild', 'crosspost_parent', 'is_crosspostable', 'is_self', \n",
    "    'num_crossposts', 'no_follow', 'send_replies', 'is_robot_indexable', \n",
    "    'url_overridden_by_dest', 'name', 'permalink', 'author_fullname', \n",
    "    'author_premium', 'author_flair_text', 'author_flair_css_class', \n",
    "    'created', 'spoiler', 'thumbnail', 'spoiler', 'over_18', \n",
    "    'author_created_utc', 'subreddit_subscribers', 'archived', \n",
    "    'hide_score', 'post_hint', 'contest_mode', 'locked', \n",
    "    'whitelist_status', 'removed_by_category', 'is_video'\n",
    "], inplace=True)"
   ]
  },
  {
   "cell_type": "code",
   "execution_count": 241,
   "id": "95d0f6db-5cff-4f94-a03c-3e79d9f8a0f5",
   "metadata": {},
   "outputs": [
    {
     "name": "stdout",
     "output_type": "stream",
     "text": [
      "<class 'pandas.core.frame.DataFrame'>\n",
      "RangeIndex: 541480 entries, 0 to 541479\n",
      "Data columns (total 16 columns):\n",
      " #   Column                  Non-Null Count   Dtype  \n",
      "---  ------                  --------------   -----  \n",
      " 0   link_flair_text         376389 non-null  object \n",
      " 1   url                     527514 non-null  object \n",
      " 2   link_flair_css_class    325229 non-null  object \n",
      " 3   id                      541480 non-null  object \n",
      " 4   created_utc             541480 non-null  float64\n",
      " 5   title                   541480 non-null  object \n",
      " 6   author                  541470 non-null  object \n",
      " 7   selftext                241265 non-null  object \n",
      " 8   domain                  527489 non-null  object \n",
      " 9   num_comments            541480 non-null  int64  \n",
      " 10  ups                     287251 non-null  float64\n",
      " 11  score                   541480 non-null  int64  \n",
      " 12  is_reddit_media_domain  413327 non-null  float64\n",
      " 13  total_awards_received   345125 non-null  float64\n",
      " 14  upvote_ratio            290362 non-null  float64\n",
      " 15  src                     541480 non-null  object \n",
      "dtypes: float64(5), int64(2), object(9)\n",
      "memory usage: 66.1+ MB\n"
     ]
    }
   ],
   "source": [
    "full_df.info()"
   ]
  },
  {
   "cell_type": "code",
   "execution_count": 250,
   "id": "df2de113-3b75-4847-91e7-29722f4b0925",
   "metadata": {},
   "outputs": [
    {
     "data": {
      "text/plain": [
       "<Axes: >"
      ]
     },
     "execution_count": 250,
     "metadata": {},
     "output_type": "execute_result"
    },
    {
     "data": {
      "image/png": "[encoded data removed]",
      "text/plain": [
       "<Figure size 640x480 with 2 Axes>"
      ]
     },
     "metadata": {},
     "output_type": "display_data"
    }
   ],
   "source": [
    "sns.heatmap(full_df.select_dtypes(['float64', 'int64']).corr())"
   ]
  },
  {
   "cell_type": "markdown",
   "id": "4368db23-52e6-4dc9-afe4-76ba0a1f7733",
   "metadata": {},
   "source": [
    "- Как и ожидалось, почти полная корреляция между `ups` и `score`, один из них можно удалить.\n",
    "- Также сильная корреляция между `num_comments` и `score`\n",
    "- интересно, как чуть виднеется связь `created_utc` и `is_reddit_media_domain`: раньше доменом медиа был не реддит, сейчас - реддит."
   ]
  },
  {
   "cell_type": "code",
   "execution_count": 251,
   "id": "a279907b-659f-46ef-9230-8fc68690260e",
   "metadata": {},
   "outputs": [],
   "source": [
    "full_df.to_csv('posts_cleaner_2.csv')"
   ]
  },
  {
   "cell_type": "markdown",
   "id": "126ae58c-6e65-443b-ac0e-307c6d94f307",
   "metadata": {
    "jp-MarkdownHeadingCollapsed": true
   },
   "source": [
    "## [5] Опишите возможные применения этих данных в контексте машинного обучения.\n",
    "\n",
    "1. Конкретно в нашей задаче нужны мультимодальные данные (триплеты [ориг. картинка] - [текстовый запрос] - [отредактированный результат]). Но мультимодальность у нас в четвертой домашке, это я настрою там.\n",
    "2. Также сами тексты запросов нам очень важны. Во-первых, это максимально естественные примеры того, какие запросы будут у пользователей к модели-редактору. Во-вторых, из запросов можно извлеч типы задач и сформировать их распределение. Это важно, чтобы понять, в каких пропорциях учить модель задачам.\n",
    "3. Также можно связать тексты с численными метриками постов. Например, можно обучать/алайнить какую-либо модель на синтез текстовых описаний, оценивая их качество фичами типа числа апвоутов, числа комментариев, скора.\n",
    "4. Если отдельно парсить все комментарии к постам, можно использовать это для дообучения моделей на более естественную ассистентность в вопросе редактирования (по крайней мере, как обычно отвечают на те или иные запросы, особенно на юмор)."
   ]
  }
 ],
 "metadata": {
  "kernelspec": {
   "display_name": "Python 3 (ipykernel)",
   "language": "python",
   "name": "python3"
  },
  "language_info": {
   "codemirror_mode": {
    "name": "ipython",
    "version": 3
   },
   "file_extension": ".py",
   "mimetype": "text/x-python",
   "name": "python",
   "nbconvert_exporter": "python",
   "pygments_lexer": "ipython3",
   "version": "3.11.9"
  }
 },
 "nbformat": 4,
 "nbformat_minor": 5
}
